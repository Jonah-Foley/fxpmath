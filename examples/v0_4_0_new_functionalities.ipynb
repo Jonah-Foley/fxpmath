{
 "metadata": {
  "language_info": {
   "codemirror_mode": {
    "name": "ipython",
    "version": 3
   },
   "file_extension": ".py",
   "mimetype": "text/x-python",
   "name": "python",
   "nbconvert_exporter": "python",
   "pygments_lexer": "ipython3",
   "version": "3.6.7-final"
  },
  "orig_nbformat": 2,
  "kernelspec": {
   "name": "python36764bit72d3d421fe404776abad78b8443317dc",
   "display_name": "Python 3.6.7 64-bit",
   "language": "python"
  }
 },
 "nbformat": 4,
 "nbformat_minor": 2,
 "cells": [
  {
   "source": [
    "# New functionalities in version 0.4.0\n",
    "\n",
    "This version include new functionalities about extended precision (work with words larger than 64 bits) and support numpy functions, among others. This notebook has some examples of these functionalities. For more information see [documentation web site](https://francof2a.github.io/fxpmath/).\n",
    "\n",
    "**Changelog**:\n",
    "\n",
    "* Extended precision (beyond 64 bits) in `add`, `sub`, `mult`, `truediv`, `floordiv`, `mod` and `pow` functions and methods (operators).\n",
    "* Support new input formats for values: `tuples`, `Decimal` type from `decimal` module.\n",
    "* dtype can be specified at init if `fxp` format or `Q` format (it replaces explicit sizing by signed, n_word, and n_frac parameters).\n",
    "* Template functionality added. It allows define default format for new Fxp objects.\n",
    "* Config class created to manage low level configuration of Fxp object's behavior.\n",
    "    - size limits: `max_error`, `n_word_max`. Parameters to define n_word and n_frac of a new Fxp.\n",
    "    - behavior: `op_method` (defines calculation method for ALU operators).\n",
    "    - inputs: `op_input_size` (defines sizing of constant conversion to Fxp in math operations).\n",
    "    - alu ops outpus: `op_out`, `op_out_like`, `op_sizing` (define the sizing method or type for results of ALU operations).\n",
    "    - alu ops with a constant operand: `const_op_sizing` (alternative of `op_sizing` when one of ALU operands is a constant).\n",
    "    - array ops: `array_output_type` (defines the object type when use Numpy functions: Numpy Array or Fxp),\n",
    "    `array_op_out`, `array_op_out_like` (define the output's size), `array_op_method` (defines calculation method for ALU operators).\n",
    "* Several core calculations/methods mirgrated from `float` to `int` to support extended precision.\n",
    "* Extended precision flag in status (extended_prec).\n",
    "* Results of ALU operations with constants keep same size than Fxp object (by default).\n",
    "* `like` initialization supports overwrite of size parameters.\n",
    "* Numpy functions dispatch. You can use Fxp as arguments (inputs) of Numpy functions and get Fxp as outputs of them.\n",
    "* New Fxp properties: size, shape, ndim, T.\n",
    "* New Fxp methods: reshape, flatten, raw, uraw.\n",
    "* New Fxp methods from Numpy array methods: all, any, argmax, argmin, argpartition, argsort, max, min, mean, std, var, sum, cumsum, cumprod, \n",
    "  ravel, tolist, sort, conjugate, conj, transpose, item, clip, diagonal, trace, prod, dot, nonzero.\n",
    "* Support for `bool`, `int`, `float` and `complex` casting.\n",
    "* dtype included in Fxp's representation (__repr__).\n",
    "* Callbacks (basic) functionality added: `on_value_change`, `on_status_overflow`, `on_status_underflow`, `on_status_inaccuracy`.\n",
    "* Some performance improvements.\n"
   ],
   "cell_type": "markdown",
   "metadata": {}
  },
  {
   "cell_type": "code",
   "execution_count": 1,
   "metadata": {},
   "outputs": [],
   "source": [
    "import numpy as np\n",
    "import matplotlib.pyplot as plt \n",
    "\n",
    "from fxpmath import Fxp\n",
    "import fxpmath as fxp"
   ]
  },
  {
   "source": [
    "## Extended precision\n",
    "\n",
    "Numpy works up to 64 bits for its `int` types: `int64` and `uint64`. *fxpmath* works internally with some of these types depending of `Fxp` is signed or not. When a fixed point variable has to be larger than 64 bits, it's necessary to work with **extended precision** (Fxp works with python `int` type instead of numpy types, but supporting numpy `ndarray`).\n",
    "\n",
    "Let's create a Fxp with 256 bits for word and 248 bits for fractional part:"
   ],
   "cell_type": "markdown",
   "metadata": {}
  },
  {
   "cell_type": "code",
   "execution_count": 2,
   "metadata": {},
   "outputs": [
    {
     "output_type": "stream",
     "name": "stdout",
     "text": [
      "\tdtype\t\t=\tfxp-s256/248\n\tValue\t\t=\t[-1.2 0.0 1.5]\n\textended_prec\t=\tTrue\n\n\tSigned\t\t=\tTrue\n\tWord bits\t=\t256\n\tFract bits\t=\t248\n\tInt bits\t=\t7\n\tVal data type\t=\tfloat64\n\n\tUpper\t\t=\t128.0\n\tLower\t\t=\t-128.0\n\tPrecision\t=\t2.210859150104178e-75\n\tOverflow\t=\tsaturate\n\tRounding\t=\ttrunc\n\tShifting\t=\texpand\n\n"
     ]
    }
   ],
   "source": [
    "xe = Fxp([-1.2, 0., 1.5], signed=True, n_word=256, n_frac=248)\n",
    "\n",
    "xe.info(3)"
   ]
  },
  {
   "source": [
    "Note that flag `extended_prec` is `True`.\n",
    "\n",
    "Working with extended precision allows better precision than `float64`. Following example shows losing information because limited precision of float:"
   ],
   "cell_type": "markdown",
   "metadata": {}
  },
  {
   "cell_type": "code",
   "execution_count": 3,
   "metadata": {},
   "outputs": [
    {
     "output_type": "stream",
     "name": "stdout",
     "text": [
      "a = 1.0\nb = 1.262177448353619e-29\nc = 0.0 (c should be equal to b)\n"
     ]
    }
   ],
   "source": [
    "a = np.array(1.)\n",
    "b = np.array(2**(-96))\n",
    "print('a = {}'.format(a))\n",
    "print('b = {}'.format(b))\n",
    "\n",
    "c = (a + b) - a\n",
    "print('c = {} (c should be equal to b)'.format(c))"
   ]
  },
  {
   "cell_type": "code",
   "execution_count": 4,
   "metadata": {},
   "outputs": [
    {
     "output_type": "stream",
     "name": "stdout",
     "text": [
      "a_e = 1.0\nb_e = 1.262177448353619e-29\nc_e = 1.262177448353619e-29 (c_e should be equal to b_e)\n"
     ]
    }
   ],
   "source": [
    "a_e = Fxp(1., True, 128, 96)\n",
    "b_e = Fxp(2**(-96), True, 128, 96)\n",
    "print('a_e = {}'.format(a_e))\n",
    "print('b_e = {}'.format(b_e))\n",
    "\n",
    "c_e = (a_e + b_e) - a_e\n",
    "print('c_e = {} (c_e should be equal to b_e)'.format(c_e))"
   ]
  },
  {
   "source": [
    "It's because $a_e + b_e$ can handle with a high dynamic range. Another way to see that is inspecting binary representation:"
   ],
   "cell_type": "markdown",
   "metadata": {}
  },
  {
   "cell_type": "code",
   "execution_count": 5,
   "metadata": {},
   "outputs": [
    {
     "output_type": "stream",
     "name": "stdout",
     "text": [
      "a_e =         00000000000000000000000000000001.000000000000000000000000000000000000000000000000000000000000000000000000000000000000000000000000\nb_e =         00000000000000000000000000000000.000000000000000000000000000000000000000000000000000000000000000000000000000000000000000000000001\n\na_e + b_e =  000000000000000000000000000000001.000000000000000000000000000000000000000000000000000000000000000000000000000000000000000000000001\n"
     ]
    }
   ],
   "source": [
    "print('a_e =         {}'.format(a_e.bin(frac_dot=True)))\n",
    "print('b_e =         {}'.format(b_e.bin(frac_dot=True)))\n",
    "print('\\na_e + b_e =  {}'.format((a_e+b_e).bin(frac_dot=True)))"
   ]
  },
  {
   "source": [
    "The common arithmetic functions support *extended precision* in order to return the result with rigth size and value:"
   ],
   "cell_type": "markdown",
   "metadata": {}
  },
  {
   "cell_type": "code",
   "execution_count": 6,
   "metadata": {},
   "outputs": [
    {
     "output_type": "stream",
     "name": "stdout",
     "text": [
      "\tdtype\t\t=\tfxp-s256/127\n\tValue\t\t=\t0.3333333333333333\n\tinaccuracy\t=\tTrue\n\textended_prec\t=\tTrue\n\nInit with Fxp result:\n000000000000000000000000000000000000000000000000000000000000000000000000000000000000000000000000000000000000000000000000000000000.0101010101010101010101010101010101010101010101010101010101010101010101010101010101010101010101010101010101010101010101010101010\nInit with float:\n000000000000000000000000000000000000000000000000000000000000000000000000000000000000000000000000000000000000000000000000000000000.0101010101010101010101010101010101010101010101010101010000000000000000000000000000000000000000000000000000000000000000000000000\n"
     ]
    }
   ],
   "source": [
    "x = Fxp(1.0, True, 128, 96)\n",
    "y = Fxp(3.0, True, 128, 96)\n",
    "\n",
    "z = x / y\n",
    "\n",
    "z.info()\n",
    "print('Init with Fxp result:')\n",
    "print(z.bin(frac_dot=True))\n",
    "\n",
    "z_float = Fxp(1.0/3.0, True, 256, 127)\n",
    "print('Init with float:')\n",
    "print(z_float.bin(frac_dot=True))"
   ]
  },
  {
   "source": [
    "Note that less significant bits of Fxp are not all zeros just like a float version."
   ],
   "cell_type": "markdown",
   "metadata": {}
  },
  {
   "source": [
    "## Decimal input"
   ],
   "cell_type": "markdown",
   "metadata": {}
  },
  {
   "cell_type": "code",
   "execution_count": 7,
   "metadata": {},
   "outputs": [],
   "source": [
    "from decimal import Decimal, getcontext"
   ]
  },
  {
   "cell_type": "code",
   "execution_count": 8,
   "metadata": {},
   "outputs": [
    {
     "output_type": "stream",
     "name": "stdout",
     "text": [
      "0.25\n"
     ]
    }
   ],
   "source": [
    "d = Fxp(Decimal(0.25), True, 16, 8)\n",
    "print(d)"
   ]
  },
  {
   "source": [
    "This format could be useful for extended precision:"
   ],
   "cell_type": "markdown",
   "metadata": {}
  },
  {
   "cell_type": "code",
   "execution_count": 9,
   "metadata": {},
   "outputs": [
    {
     "output_type": "stream",
     "name": "stdout",
     "text": [
      "decimal = 0.333333333333333333333333333333333333333\nfxp = 0.3333333333333333\n0000000000000000.01010101010101010101010101010101010101010101010101010101010101010101010101010101010101010101010101010101010101010101010101010101\n"
     ]
    }
   ],
   "source": [
    "fxp_precision = 128\n",
    "decimal_precision = int(np.ceil(np.log10(2.**fxp_precision)))\n",
    "getcontext().prec = decimal_precision\n",
    "\n",
    "d_val = Decimal(1) / Decimal(3)\n",
    "print('decimal = {}'.format(d_val))\n",
    "\n",
    "d = Fxp(d_val, True, fxp_precision+16, fxp_precision)\n",
    "print('fxp = {}'.format(d))\n",
    "print(d.bin(True))"
   ]
  },
  {
   "source": [
    "## input dtype format \n",
    "Fxp can be initialized using a string for *dtype*, instead of parameters `signed`, `n_word`, `n_int` or `n_frac`.\n",
    "\n",
    "One way is using **fxp format**: **`fxp-<sign><n_word>/<n_frac>-{complex}`** i.e.: `fxp-s16/15`, `fxp-u8/1`, `fxp-s32/24-complex`.\n",
    "\n",
    "Another way is using **Q format**: `Qm.n` or `UQm.n` notation (or the equivalent `Sm.n`/`Um.n` notation).\n",
    "\n",
    "*Thanks to @NJDFan*"
   ],
   "cell_type": "markdown",
   "metadata": {}
  },
  {
   "cell_type": "code",
   "execution_count": 10,
   "metadata": {},
   "outputs": [
    {
     "output_type": "stream",
     "name": "stdout",
     "text": [
      "\tdtype\t\t=\tfxp-s16/8\n\tValue\t\t=\t-7.25\n\n\tdtype\t\t=\tfxp-s16/8\n\tValue\t\t=\t-7.25\n\n"
     ]
    }
   ],
   "source": [
    "x = Fxp(-7.25, dtype='fxp-s16/8')\n",
    "x.info()\n",
    "\n",
    "x = Fxp(-7.25, dtype='S8.8')\n",
    "x.info()"
   ]
  },
  {
   "source": [
    "## Template\n",
    "\n",
    "A **Fxp Template** is available to define the default size of Fxp new objects:"
   ],
   "cell_type": "markdown",
   "metadata": {}
  },
  {
   "cell_type": "code",
   "execution_count": 11,
   "metadata": {},
   "outputs": [
    {
     "output_type": "stream",
     "name": "stdout",
     "text": [
      "\tdtype\t\t=\tfxp-s24/8\n\tValue\t\t=\t0.25\n\n\tdtype\t\t=\tfxp-s24/8\n\tValue\t\t=\t-12.75\n\n"
     ]
    }
   ],
   "source": [
    "# Template is defined inside Fxp class\n",
    "Fxp.template = Fxp(None, dtype='fxp-s24/8')\n",
    "\n",
    "x = Fxp(0.25)\n",
    "y = Fxp(-12.75)\n",
    "\n",
    "x.info()\n",
    "y.info()"
   ]
  },
  {
   "source": [
    "In this way, is not necessary to specify the size parameters each time.\n",
    "\n",
    "A template can be change on the fly, affecting only the new Fxp object created after that change:"
   ],
   "cell_type": "markdown",
   "metadata": {}
  },
  {
   "cell_type": "code",
   "execution_count": 12,
   "metadata": {},
   "outputs": [
    {
     "output_type": "stream",
     "name": "stdout",
     "text": [
      "\tdtype\t\t=\tfxp-s16/4\n\tValue\t\t=\t0.25\n\n\tdtype\t\t=\tfxp-s32/8\n\tValue\t\t=\t0.09765625\n\tinaccuracy\t=\tTrue\n\n"
     ]
    }
   ],
   "source": [
    "Fxp.template = Fxp(None, dtype='fxp-s16/4')\n",
    "\n",
    "x = Fxp(0.25)\n",
    "y = Fxp(-12.75)\n",
    "\n",
    "Fxp.template = Fxp(None, dtype='fxp-s32/8')\n",
    "\n",
    "z = Fxp(0.1)\n",
    "\n",
    "x.info()\n",
    "z.info()"
   ]
  },
  {
   "source": [
    "Fxp.template = None # disable template"
   ],
   "cell_type": "code",
   "metadata": {},
   "execution_count": 13,
   "outputs": []
  },
  {
   "source": [
    "## `like` init supports overloading\n",
    "\n",
    "Now it is possible to modify some size parameter when new Fxp is initialized using `like`:"
   ],
   "cell_type": "markdown",
   "metadata": {}
  },
  {
   "cell_type": "code",
   "execution_count": 14,
   "metadata": {},
   "outputs": [
    {
     "output_type": "stream",
     "name": "stdout",
     "text": [
      "\tdtype\t\t=\tfxp-s24/16\n\tValue\t\t=\t-3.625\n\n\tdtype\t\t=\tfxp-s32/16\n\tValue\t\t=\t-3.625\n\n"
     ]
    }
   ],
   "source": [
    "x = Fxp(20.5, dtype='fxp-s24/16') # reference\n",
    "\n",
    "y = Fxp(-3.625, like=x) # common like init\n",
    "z = Fxp(-3.625, like=x, n_word=32) # like x but with 32 bits for word\n",
    "\n",
    "y.info()\n",
    "z.info()"
   ]
  },
  {
   "source": [
    "# Numpy dispatch\n",
    "\n",
    "One of the biggest improvement of *fxpmath* in this version is supporting for **numpy's functions**.\n",
    "\n",
    "- Numpy functions supports Fxp objects like inputs, returning Fxp objects.\n",
    "- Fxp try to resolve the functions using extendend precision, but if a function is not implemented with this feature, is calculated using Fxp representation value."
   ],
   "cell_type": "markdown",
   "metadata": {}
  },
  {
   "cell_type": "code",
   "execution_count": 15,
   "metadata": {},
   "outputs": [
    {
     "output_type": "stream",
     "name": "stdout",
     "text": [
      "<class 'fxpmath.objects.Fxp'>\nfxp-s59/58\n"
     ]
    }
   ],
   "source": [
    "N = 100\n",
    "f = 130\n",
    "fs = 2e3\n",
    "\n",
    "n_fxp = Fxp(np.arange(N), dtype='fxp-s24/4') # sample vector in fixed point precision\n",
    "y = np.sin(2*np.pi*f*n_fxp/fs)  # numpy sin function takes a Fxp as input\n",
    "\n",
    "print(type(y))  # y is a Fxp object returned by numpy function\n",
    "print(y.dtype)  # output size is calculated according values and input sizes"
   ]
  },
  {
   "cell_type": "code",
   "execution_count": 16,
   "metadata": {},
   "outputs": [
    {
     "output_type": "display_data",
     "data": {
      "text/plain": "<Figure size 720x360 with 1 Axes>",
      "image/svg+xml": "<?xml version=\"1.0\" encoding=\"utf-8\" standalone=\"no\"?>\n<!DOCTYPE svg PUBLIC \"-//W3C//DTD SVG 1.1//EN\"\n  \"http://www.w3.org/Graphics/SVG/1.1/DTD/svg11.dtd\">\n<!-- Created with matplotlib (https://matplotlib.org/) -->\n<svg height=\"302.878125pt\" version=\"1.1\" viewBox=\"0 0 610.045312 302.878125\" width=\"610.045312pt\" xmlns=\"http://www.w3.org/2000/svg\" xmlns:xlink=\"http://www.w3.org/1999/xlink\">\n <defs>\n  <style type=\"text/css\">\n*{stroke-linecap:butt;stroke-linejoin:round;white-space:pre;}\n  </style>\n </defs>\n <g id=\"figure_1\">\n  <g id=\"patch_1\">\n   <path d=\"M 0 302.878125 \nL 610.045312 302.878125 \nL 610.045312 0 \nL 0 0 \nz\n\" style=\"fill:none;\"/>\n  </g>\n  <g id=\"axes_1\">\n   <g id=\"patch_2\">\n    <path d=\"M 44.845313 279 \nL 602.845312 279 \nL 602.845312 7.2 \nL 44.845313 7.2 \nz\n\" style=\"fill:#ffffff;\"/>\n   </g>\n   <g id=\"matplotlib.axis_1\">\n    <g id=\"xtick_1\">\n     <g id=\"line2d_1\">\n      <defs>\n       <path d=\"M 0 0 \nL 0 3.5 \n\" id=\"m2591df73cd\" style=\"stroke:#000000;stroke-width:0.8;\"/>\n      </defs>\n      <g>\n       <use style=\"stroke:#000000;stroke-width:0.8;\" x=\"70.208949\" xlink:href=\"#m2591df73cd\" y=\"279\"/>\n      </g>\n     </g>\n     <g id=\"text_1\">\n      <!-- 0 -->\n      <defs>\n       <path d=\"M 31.78125 66.40625 \nQ 24.171875 66.40625 20.328125 58.90625 \nQ 16.5 51.421875 16.5 36.375 \nQ 16.5 21.390625 20.328125 13.890625 \nQ 24.171875 6.390625 31.78125 6.390625 \nQ 39.453125 6.390625 43.28125 13.890625 \nQ 47.125 21.390625 47.125 36.375 \nQ 47.125 51.421875 43.28125 58.90625 \nQ 39.453125 66.40625 31.78125 66.40625 \nz\nM 31.78125 74.21875 \nQ 44.046875 74.21875 50.515625 64.515625 \nQ 56.984375 54.828125 56.984375 36.375 \nQ 56.984375 17.96875 50.515625 8.265625 \nQ 44.046875 -1.421875 31.78125 -1.421875 \nQ 19.53125 -1.421875 13.0625 8.265625 \nQ 6.59375 17.96875 6.59375 36.375 \nQ 6.59375 54.828125 13.0625 64.515625 \nQ 19.53125 74.21875 31.78125 74.21875 \nz\n\" id=\"DejaVuSans-48\"/>\n      </defs>\n      <g transform=\"translate(67.027699 293.598437)scale(0.1 -0.1)\">\n       <use xlink:href=\"#DejaVuSans-48\"/>\n      </g>\n     </g>\n    </g>\n    <g id=\"xtick_2\">\n     <g id=\"line2d_2\">\n      <g>\n       <use style=\"stroke:#000000;stroke-width:0.8;\" x=\"172.688288\" xlink:href=\"#m2591df73cd\" y=\"279\"/>\n      </g>\n     </g>\n     <g id=\"text_2\">\n      <!-- 20 -->\n      <defs>\n       <path d=\"M 19.1875 8.296875 \nL 53.609375 8.296875 \nL 53.609375 0 \nL 7.328125 0 \nL 7.328125 8.296875 \nQ 12.9375 14.109375 22.625 23.890625 \nQ 32.328125 33.6875 34.8125 36.53125 \nQ 39.546875 41.84375 41.421875 45.53125 \nQ 43.3125 49.21875 43.3125 52.78125 \nQ 43.3125 58.59375 39.234375 62.25 \nQ 35.15625 65.921875 28.609375 65.921875 \nQ 23.96875 65.921875 18.8125 64.3125 \nQ 13.671875 62.703125 7.8125 59.421875 \nL 7.8125 69.390625 \nQ 13.765625 71.78125 18.9375 73 \nQ 24.125 74.21875 28.421875 74.21875 \nQ 39.75 74.21875 46.484375 68.546875 \nQ 53.21875 62.890625 53.21875 53.421875 \nQ 53.21875 48.921875 51.53125 44.890625 \nQ 49.859375 40.875 45.40625 35.40625 \nQ 44.1875 33.984375 37.640625 27.21875 \nQ 31.109375 20.453125 19.1875 8.296875 \nz\n\" id=\"DejaVuSans-50\"/>\n      </defs>\n      <g transform=\"translate(166.325788 293.598437)scale(0.1 -0.1)\">\n       <use xlink:href=\"#DejaVuSans-50\"/>\n       <use x=\"63.623047\" xlink:href=\"#DejaVuSans-48\"/>\n      </g>\n     </g>\n    </g>\n    <g id=\"xtick_3\">\n     <g id=\"line2d_3\">\n      <g>\n       <use style=\"stroke:#000000;stroke-width:0.8;\" x=\"275.167627\" xlink:href=\"#m2591df73cd\" y=\"279\"/>\n      </g>\n     </g>\n     <g id=\"text_3\">\n      <!-- 40 -->\n      <defs>\n       <path d=\"M 37.796875 64.3125 \nL 12.890625 25.390625 \nL 37.796875 25.390625 \nz\nM 35.203125 72.90625 \nL 47.609375 72.90625 \nL 47.609375 25.390625 \nL 58.015625 25.390625 \nL 58.015625 17.1875 \nL 47.609375 17.1875 \nL 47.609375 0 \nL 37.796875 0 \nL 37.796875 17.1875 \nL 4.890625 17.1875 \nL 4.890625 26.703125 \nz\n\" id=\"DejaVuSans-52\"/>\n      </defs>\n      <g transform=\"translate(268.805127 293.598437)scale(0.1 -0.1)\">\n       <use xlink:href=\"#DejaVuSans-52\"/>\n       <use x=\"63.623047\" xlink:href=\"#DejaVuSans-48\"/>\n      </g>\n     </g>\n    </g>\n    <g id=\"xtick_4\">\n     <g id=\"line2d_4\">\n      <g>\n       <use style=\"stroke:#000000;stroke-width:0.8;\" x=\"377.646965\" xlink:href=\"#m2591df73cd\" y=\"279\"/>\n      </g>\n     </g>\n     <g id=\"text_4\">\n      <!-- 60 -->\n      <defs>\n       <path d=\"M 33.015625 40.375 \nQ 26.375 40.375 22.484375 35.828125 \nQ 18.609375 31.296875 18.609375 23.390625 \nQ 18.609375 15.53125 22.484375 10.953125 \nQ 26.375 6.390625 33.015625 6.390625 \nQ 39.65625 6.390625 43.53125 10.953125 \nQ 47.40625 15.53125 47.40625 23.390625 \nQ 47.40625 31.296875 43.53125 35.828125 \nQ 39.65625 40.375 33.015625 40.375 \nz\nM 52.59375 71.296875 \nL 52.59375 62.3125 \nQ 48.875 64.0625 45.09375 64.984375 \nQ 41.3125 65.921875 37.59375 65.921875 \nQ 27.828125 65.921875 22.671875 59.328125 \nQ 17.53125 52.734375 16.796875 39.40625 \nQ 19.671875 43.65625 24.015625 45.921875 \nQ 28.375 48.1875 33.59375 48.1875 \nQ 44.578125 48.1875 50.953125 41.515625 \nQ 57.328125 34.859375 57.328125 23.390625 \nQ 57.328125 12.15625 50.6875 5.359375 \nQ 44.046875 -1.421875 33.015625 -1.421875 \nQ 20.359375 -1.421875 13.671875 8.265625 \nQ 6.984375 17.96875 6.984375 36.375 \nQ 6.984375 53.65625 15.1875 63.9375 \nQ 23.390625 74.21875 37.203125 74.21875 \nQ 40.921875 74.21875 44.703125 73.484375 \nQ 48.484375 72.75 52.59375 71.296875 \nz\n\" id=\"DejaVuSans-54\"/>\n      </defs>\n      <g transform=\"translate(371.284465 293.598437)scale(0.1 -0.1)\">\n       <use xlink:href=\"#DejaVuSans-54\"/>\n       <use x=\"63.623047\" xlink:href=\"#DejaVuSans-48\"/>\n      </g>\n     </g>\n    </g>\n    <g id=\"xtick_5\">\n     <g id=\"line2d_5\">\n      <g>\n       <use style=\"stroke:#000000;stroke-width:0.8;\" x=\"480.126304\" xlink:href=\"#m2591df73cd\" y=\"279\"/>\n      </g>\n     </g>\n     <g id=\"text_5\">\n      <!-- 80 -->\n      <defs>\n       <path d=\"M 31.78125 34.625 \nQ 24.75 34.625 20.71875 30.859375 \nQ 16.703125 27.09375 16.703125 20.515625 \nQ 16.703125 13.921875 20.71875 10.15625 \nQ 24.75 6.390625 31.78125 6.390625 \nQ 38.8125 6.390625 42.859375 10.171875 \nQ 46.921875 13.96875 46.921875 20.515625 \nQ 46.921875 27.09375 42.890625 30.859375 \nQ 38.875 34.625 31.78125 34.625 \nz\nM 21.921875 38.8125 \nQ 15.578125 40.375 12.03125 44.71875 \nQ 8.5 49.078125 8.5 55.328125 \nQ 8.5 64.0625 14.71875 69.140625 \nQ 20.953125 74.21875 31.78125 74.21875 \nQ 42.671875 74.21875 48.875 69.140625 \nQ 55.078125 64.0625 55.078125 55.328125 \nQ 55.078125 49.078125 51.53125 44.71875 \nQ 48 40.375 41.703125 38.8125 \nQ 48.828125 37.15625 52.796875 32.3125 \nQ 56.78125 27.484375 56.78125 20.515625 \nQ 56.78125 9.90625 50.3125 4.234375 \nQ 43.84375 -1.421875 31.78125 -1.421875 \nQ 19.734375 -1.421875 13.25 4.234375 \nQ 6.78125 9.90625 6.78125 20.515625 \nQ 6.78125 27.484375 10.78125 32.3125 \nQ 14.796875 37.15625 21.921875 38.8125 \nz\nM 18.3125 54.390625 \nQ 18.3125 48.734375 21.84375 45.5625 \nQ 25.390625 42.390625 31.78125 42.390625 \nQ 38.140625 42.390625 41.71875 45.5625 \nQ 45.3125 48.734375 45.3125 54.390625 \nQ 45.3125 60.0625 41.71875 63.234375 \nQ 38.140625 66.40625 31.78125 66.40625 \nQ 25.390625 66.40625 21.84375 63.234375 \nQ 18.3125 60.0625 18.3125 54.390625 \nz\n\" id=\"DejaVuSans-56\"/>\n      </defs>\n      <g transform=\"translate(473.763804 293.598437)scale(0.1 -0.1)\">\n       <use xlink:href=\"#DejaVuSans-56\"/>\n       <use x=\"63.623047\" xlink:href=\"#DejaVuSans-48\"/>\n      </g>\n     </g>\n    </g>\n    <g id=\"xtick_6\">\n     <g id=\"line2d_6\">\n      <g>\n       <use style=\"stroke:#000000;stroke-width:0.8;\" x=\"582.605643\" xlink:href=\"#m2591df73cd\" y=\"279\"/>\n      </g>\n     </g>\n     <g id=\"text_6\">\n      <!-- 100 -->\n      <defs>\n       <path d=\"M 12.40625 8.296875 \nL 28.515625 8.296875 \nL 28.515625 63.921875 \nL 10.984375 60.40625 \nL 10.984375 69.390625 \nL 28.421875 72.90625 \nL 38.28125 72.90625 \nL 38.28125 8.296875 \nL 54.390625 8.296875 \nL 54.390625 0 \nL 12.40625 0 \nz\n\" id=\"DejaVuSans-49\"/>\n      </defs>\n      <g transform=\"translate(573.061893 293.598437)scale(0.1 -0.1)\">\n       <use xlink:href=\"#DejaVuSans-49\"/>\n       <use x=\"63.623047\" xlink:href=\"#DejaVuSans-48\"/>\n       <use x=\"127.246094\" xlink:href=\"#DejaVuSans-48\"/>\n      </g>\n     </g>\n    </g>\n   </g>\n   <g id=\"matplotlib.axis_2\">\n    <g id=\"ytick_1\">\n     <g id=\"line2d_7\">\n      <defs>\n       <path d=\"M 0 0 \nL -3.5 0 \n\" id=\"m8875ab858e\" style=\"stroke:#000000;stroke-width:0.8;\"/>\n      </defs>\n      <g>\n       <use style=\"stroke:#000000;stroke-width:0.8;\" x=\"44.845313\" xlink:href=\"#m8875ab858e\" y=\"266.646665\"/>\n      </g>\n     </g>\n     <g id=\"text_7\">\n      <!-- −1.00 -->\n      <defs>\n       <path d=\"M 10.59375 35.5 \nL 73.1875 35.5 \nL 73.1875 27.203125 \nL 10.59375 27.203125 \nz\n\" id=\"DejaVuSans-8722\"/>\n       <path d=\"M 10.6875 12.40625 \nL 21 12.40625 \nL 21 0 \nL 10.6875 0 \nz\n\" id=\"DejaVuSans-46\"/>\n      </defs>\n      <g transform=\"translate(7.2 270.445884)scale(0.1 -0.1)\">\n       <use xlink:href=\"#DejaVuSans-8722\"/>\n       <use x=\"83.789062\" xlink:href=\"#DejaVuSans-49\"/>\n       <use x=\"147.412109\" xlink:href=\"#DejaVuSans-46\"/>\n       <use x=\"179.199219\" xlink:href=\"#DejaVuSans-48\"/>\n       <use x=\"242.822266\" xlink:href=\"#DejaVuSans-48\"/>\n      </g>\n     </g>\n    </g>\n    <g id=\"ytick_2\">\n     <g id=\"line2d_8\">\n      <g>\n       <use style=\"stroke:#000000;stroke-width:0.8;\" x=\"44.845313\" xlink:href=\"#m8875ab858e\" y=\"235.744263\"/>\n      </g>\n     </g>\n     <g id=\"text_8\">\n      <!-- −0.75 -->\n      <defs>\n       <path d=\"M 8.203125 72.90625 \nL 55.078125 72.90625 \nL 55.078125 68.703125 \nL 28.609375 0 \nL 18.3125 0 \nL 43.21875 64.59375 \nL 8.203125 64.59375 \nz\n\" id=\"DejaVuSans-55\"/>\n       <path d=\"M 10.796875 72.90625 \nL 49.515625 72.90625 \nL 49.515625 64.59375 \nL 19.828125 64.59375 \nL 19.828125 46.734375 \nQ 21.96875 47.46875 24.109375 47.828125 \nQ 26.265625 48.1875 28.421875 48.1875 \nQ 40.625 48.1875 47.75 41.5 \nQ 54.890625 34.8125 54.890625 23.390625 \nQ 54.890625 11.625 47.5625 5.09375 \nQ 40.234375 -1.421875 26.90625 -1.421875 \nQ 22.3125 -1.421875 17.546875 -0.640625 \nQ 12.796875 0.140625 7.71875 1.703125 \nL 7.71875 11.625 \nQ 12.109375 9.234375 16.796875 8.0625 \nQ 21.484375 6.890625 26.703125 6.890625 \nQ 35.15625 6.890625 40.078125 11.328125 \nQ 45.015625 15.765625 45.015625 23.390625 \nQ 45.015625 31 40.078125 35.4375 \nQ 35.15625 39.890625 26.703125 39.890625 \nQ 22.75 39.890625 18.8125 39.015625 \nQ 14.890625 38.140625 10.796875 36.28125 \nz\n\" id=\"DejaVuSans-53\"/>\n      </defs>\n      <g transform=\"translate(7.2 239.543481)scale(0.1 -0.1)\">\n       <use xlink:href=\"#DejaVuSans-8722\"/>\n       <use x=\"83.789062\" xlink:href=\"#DejaVuSans-48\"/>\n       <use x=\"147.412109\" xlink:href=\"#DejaVuSans-46\"/>\n       <use x=\"179.199219\" xlink:href=\"#DejaVuSans-55\"/>\n       <use x=\"242.822266\" xlink:href=\"#DejaVuSans-53\"/>\n      </g>\n     </g>\n    </g>\n    <g id=\"ytick_3\">\n     <g id=\"line2d_9\">\n      <g>\n       <use style=\"stroke:#000000;stroke-width:0.8;\" x=\"44.845313\" xlink:href=\"#m8875ab858e\" y=\"204.84186\"/>\n      </g>\n     </g>\n     <g id=\"text_9\">\n      <!-- −0.50 -->\n      <g transform=\"translate(7.2 208.641079)scale(0.1 -0.1)\">\n       <use xlink:href=\"#DejaVuSans-8722\"/>\n       <use x=\"83.789062\" xlink:href=\"#DejaVuSans-48\"/>\n       <use x=\"147.412109\" xlink:href=\"#DejaVuSans-46\"/>\n       <use x=\"179.199219\" xlink:href=\"#DejaVuSans-53\"/>\n       <use x=\"242.822266\" xlink:href=\"#DejaVuSans-48\"/>\n      </g>\n     </g>\n    </g>\n    <g id=\"ytick_4\">\n     <g id=\"line2d_10\">\n      <g>\n       <use style=\"stroke:#000000;stroke-width:0.8;\" x=\"44.845313\" xlink:href=\"#m8875ab858e\" y=\"173.939458\"/>\n      </g>\n     </g>\n     <g id=\"text_10\">\n      <!-- −0.25 -->\n      <g transform=\"translate(7.2 177.738677)scale(0.1 -0.1)\">\n       <use xlink:href=\"#DejaVuSans-8722\"/>\n       <use x=\"83.789062\" xlink:href=\"#DejaVuSans-48\"/>\n       <use x=\"147.412109\" xlink:href=\"#DejaVuSans-46\"/>\n       <use x=\"179.199219\" xlink:href=\"#DejaVuSans-50\"/>\n       <use x=\"242.822266\" xlink:href=\"#DejaVuSans-53\"/>\n      </g>\n     </g>\n    </g>\n    <g id=\"ytick_5\">\n     <g id=\"line2d_11\">\n      <g>\n       <use style=\"stroke:#000000;stroke-width:0.8;\" x=\"44.845313\" xlink:href=\"#m8875ab858e\" y=\"143.037055\"/>\n      </g>\n     </g>\n     <g id=\"text_11\">\n      <!-- 0.00 -->\n      <g transform=\"translate(15.579688 146.836274)scale(0.1 -0.1)\">\n       <use xlink:href=\"#DejaVuSans-48\"/>\n       <use x=\"63.623047\" xlink:href=\"#DejaVuSans-46\"/>\n       <use x=\"95.410156\" xlink:href=\"#DejaVuSans-48\"/>\n       <use x=\"159.033203\" xlink:href=\"#DejaVuSans-48\"/>\n      </g>\n     </g>\n    </g>\n    <g id=\"ytick_6\">\n     <g id=\"line2d_12\">\n      <g>\n       <use style=\"stroke:#000000;stroke-width:0.8;\" x=\"44.845313\" xlink:href=\"#m8875ab858e\" y=\"112.134653\"/>\n      </g>\n     </g>\n     <g id=\"text_12\">\n      <!-- 0.25 -->\n      <g transform=\"translate(15.579688 115.933872)scale(0.1 -0.1)\">\n       <use xlink:href=\"#DejaVuSans-48\"/>\n       <use x=\"63.623047\" xlink:href=\"#DejaVuSans-46\"/>\n       <use x=\"95.410156\" xlink:href=\"#DejaVuSans-50\"/>\n       <use x=\"159.033203\" xlink:href=\"#DejaVuSans-53\"/>\n      </g>\n     </g>\n    </g>\n    <g id=\"ytick_7\">\n     <g id=\"line2d_13\">\n      <g>\n       <use style=\"stroke:#000000;stroke-width:0.8;\" x=\"44.845313\" xlink:href=\"#m8875ab858e\" y=\"81.23225\"/>\n      </g>\n     </g>\n     <g id=\"text_13\">\n      <!-- 0.50 -->\n      <g transform=\"translate(15.579688 85.031469)scale(0.1 -0.1)\">\n       <use xlink:href=\"#DejaVuSans-48\"/>\n       <use x=\"63.623047\" xlink:href=\"#DejaVuSans-46\"/>\n       <use x=\"95.410156\" xlink:href=\"#DejaVuSans-53\"/>\n       <use x=\"159.033203\" xlink:href=\"#DejaVuSans-48\"/>\n      </g>\n     </g>\n    </g>\n    <g id=\"ytick_8\">\n     <g id=\"line2d_14\">\n      <g>\n       <use style=\"stroke:#000000;stroke-width:0.8;\" x=\"44.845313\" xlink:href=\"#m8875ab858e\" y=\"50.329848\"/>\n      </g>\n     </g>\n     <g id=\"text_14\">\n      <!-- 0.75 -->\n      <g transform=\"translate(15.579688 54.129067)scale(0.1 -0.1)\">\n       <use xlink:href=\"#DejaVuSans-48\"/>\n       <use x=\"63.623047\" xlink:href=\"#DejaVuSans-46\"/>\n       <use x=\"95.410156\" xlink:href=\"#DejaVuSans-55\"/>\n       <use x=\"159.033203\" xlink:href=\"#DejaVuSans-53\"/>\n      </g>\n     </g>\n    </g>\n    <g id=\"ytick_9\">\n     <g id=\"line2d_15\">\n      <g>\n       <use style=\"stroke:#000000;stroke-width:0.8;\" x=\"44.845313\" xlink:href=\"#m8875ab858e\" y=\"19.427445\"/>\n      </g>\n     </g>\n     <g id=\"text_15\">\n      <!-- 1.00 -->\n      <g transform=\"translate(15.579688 23.226664)scale(0.1 -0.1)\">\n       <use xlink:href=\"#DejaVuSans-49\"/>\n       <use x=\"63.623047\" xlink:href=\"#DejaVuSans-46\"/>\n       <use x=\"95.410156\" xlink:href=\"#DejaVuSans-48\"/>\n       <use x=\"159.033203\" xlink:href=\"#DejaVuSans-48\"/>\n      </g>\n     </g>\n    </g>\n   </g>\n   <g id=\"line2d_16\">\n    <path clip-path=\"url(#p56b1147cc4)\" d=\"M 70.208949 143.037055 \nL 75.332916 97.762251 \nL 80.456883 53.295409 \nL 85.58085 28.39694 \nL 90.704817 19.608986 \nL 95.828784 30.639155 \nL 100.952751 63.019299 \nL 106.076717 103.088344 \nL 111.200684 156.411014 \nL 116.324651 200.490652 \nL 121.448618 241.448967 \nL 126.572585 262.005784 \nL 131.696552 265.015999 \nL 136.820519 249.209613 \nL 141.944486 212.39146 \nL 147.068453 162.508836 \nL 152.19242 116.446158 \nL 157.316387 67.806316 \nL 162.440354 37.110297 \nL 167.564321 20.095088 \nL 172.688288 23.939349 \nL 177.812255 49.176963 \nL 182.936222 85.160267 \nL 188.060189 136.886562 \nL 193.184155 182.532698 \nL 198.308122 228.437936 \nL 203.432089 255.235011 \nL 208.556056 266.645455 \nL 213.680023 257.85524 \nL 218.80399 227.643597 \nL 223.927957 181.494397 \nL 229.051924 135.794051 \nL 234.175891 84.19577 \nL 239.299858 48.468694 \nL 244.423825 23.651108 \nL 249.547792 20.213466 \nL 254.671759 37.678356 \nL 259.795726 68.677399 \nL 264.919693 117.51569 \nL 270.04366 163.58852 \nL 275.167627 213.294406 \nL 280.291593 245.662603 \nL 285.41556 265.188352 \nL 290.539527 263.633805 \nL 295.663494 240.78307 \nL 300.787461 199.519661 \nL 305.911428 155.322806 \nL 311.035395 102.054517 \nL 316.159362 62.188506 \nL 321.283329 30.188249 \nL 326.407296 19.554545 \nL 331.531263 28.810604 \nL 336.65523 54.051326 \nL 341.779197 98.782099 \nL 346.903164 144.131162 \nL 352.027131 196.396518 \nL 357.151098 233.527588 \nL 362.275065 260.681075 \nL 367.399032 265.673648 \nL 372.522998 251.481781 \nL 377.646965 216.134529 \nL 382.770932 174.544779 \nL 387.894899 120.936617 \nL 393.018866 77.927144 \nL 398.142833 39.543277 \nL 403.2668 21.979039 \nL 408.390767 22.795139 \nL 413.514734 41.647267 \nL 418.638701 81.153575 \nL 423.762668 124.646484 \nL 428.886635 178.166219 \nL 434.010602 219.132983 \nL 439.134569 253.236173 \nL 444.258536 266.580865 \nL 449.382503 259.472577 \nL 454.50647 230.924119 \nL 459.630436 192.979991 \nL 464.754403 140.370575 \nL 469.87837 95.291606 \nL 475.002337 51.482591 \nL 480.126304 27.426407 \nL 485.250271 19.78217 \nL 490.374238 31.774957 \nL 495.498205 65.070309 \nL 500.622172 105.621027 \nL 505.746139 159.058729 \nL 510.870106 202.838228 \nL 515.994073 243.039549 \nL 521.11804 264.403137 \nL 526.242007 264.555924 \nL 531.365974 243.519129 \nL 536.489941 210.168105 \nL 541.613908 159.871116 \nL 546.737874 113.848293 \nL 551.861841 65.708063 \nL 556.985808 35.760625 \nL 562.109775 19.846931 \nL 567.233742 24.680913 \nL 572.357709 50.933908 \nL 577.481676 87.529865 \n\" style=\"fill:none;stroke:#1f77b4;stroke-linecap:square;stroke-width:1.5;\"/>\n    <defs>\n     <path d=\"M 0 1.5 \nC 0.397805 1.5 0.77937 1.341951 1.06066 1.06066 \nC 1.341951 0.77937 1.5 0.397805 1.5 0 \nC 1.5 -0.397805 1.341951 -0.77937 1.06066 -1.06066 \nC 0.77937 -1.341951 0.397805 -1.5 0 -1.5 \nC -0.397805 -1.5 -0.77937 -1.341951 -1.06066 -1.06066 \nC -1.341951 -0.77937 -1.5 -0.397805 -1.5 0 \nC -1.5 0.397805 -1.341951 0.77937 -1.06066 1.06066 \nC -0.77937 1.341951 -0.397805 1.5 0 1.5 \nz\n\" id=\"ma608fe5a43\" style=\"stroke:#1f77b4;\"/>\n    </defs>\n    <g clip-path=\"url(#p56b1147cc4)\">\n     <use style=\"fill:#1f77b4;stroke:#1f77b4;\" x=\"70.208949\" xlink:href=\"#ma608fe5a43\" y=\"143.037055\"/>\n     <use style=\"fill:#1f77b4;stroke:#1f77b4;\" x=\"75.332916\" xlink:href=\"#ma608fe5a43\" y=\"97.762251\"/>\n     <use style=\"fill:#1f77b4;stroke:#1f77b4;\" x=\"80.456883\" xlink:href=\"#ma608fe5a43\" y=\"53.295409\"/>\n     <use style=\"fill:#1f77b4;stroke:#1f77b4;\" x=\"85.58085\" xlink:href=\"#ma608fe5a43\" y=\"28.39694\"/>\n     <use style=\"fill:#1f77b4;stroke:#1f77b4;\" x=\"90.704817\" xlink:href=\"#ma608fe5a43\" y=\"19.608986\"/>\n     <use style=\"fill:#1f77b4;stroke:#1f77b4;\" x=\"95.828784\" xlink:href=\"#ma608fe5a43\" y=\"30.639155\"/>\n     <use style=\"fill:#1f77b4;stroke:#1f77b4;\" x=\"100.952751\" xlink:href=\"#ma608fe5a43\" y=\"63.019299\"/>\n     <use style=\"fill:#1f77b4;stroke:#1f77b4;\" x=\"106.076717\" xlink:href=\"#ma608fe5a43\" y=\"103.088344\"/>\n     <use style=\"fill:#1f77b4;stroke:#1f77b4;\" x=\"111.200684\" xlink:href=\"#ma608fe5a43\" y=\"156.411014\"/>\n     <use style=\"fill:#1f77b4;stroke:#1f77b4;\" x=\"116.324651\" xlink:href=\"#ma608fe5a43\" y=\"200.490652\"/>\n     <use style=\"fill:#1f77b4;stroke:#1f77b4;\" x=\"121.448618\" xlink:href=\"#ma608fe5a43\" y=\"241.448967\"/>\n     <use style=\"fill:#1f77b4;stroke:#1f77b4;\" x=\"126.572585\" xlink:href=\"#ma608fe5a43\" y=\"262.005784\"/>\n     <use style=\"fill:#1f77b4;stroke:#1f77b4;\" x=\"131.696552\" xlink:href=\"#ma608fe5a43\" y=\"265.015999\"/>\n     <use style=\"fill:#1f77b4;stroke:#1f77b4;\" x=\"136.820519\" xlink:href=\"#ma608fe5a43\" y=\"249.209613\"/>\n     <use style=\"fill:#1f77b4;stroke:#1f77b4;\" x=\"141.944486\" xlink:href=\"#ma608fe5a43\" y=\"212.39146\"/>\n     <use style=\"fill:#1f77b4;stroke:#1f77b4;\" x=\"147.068453\" xlink:href=\"#ma608fe5a43\" y=\"162.508836\"/>\n     <use style=\"fill:#1f77b4;stroke:#1f77b4;\" x=\"152.19242\" xlink:href=\"#ma608fe5a43\" y=\"116.446158\"/>\n     <use style=\"fill:#1f77b4;stroke:#1f77b4;\" x=\"157.316387\" xlink:href=\"#ma608fe5a43\" y=\"67.806316\"/>\n     <use style=\"fill:#1f77b4;stroke:#1f77b4;\" x=\"162.440354\" xlink:href=\"#ma608fe5a43\" y=\"37.110297\"/>\n     <use style=\"fill:#1f77b4;stroke:#1f77b4;\" x=\"167.564321\" xlink:href=\"#ma608fe5a43\" y=\"20.095088\"/>\n     <use style=\"fill:#1f77b4;stroke:#1f77b4;\" x=\"172.688288\" xlink:href=\"#ma608fe5a43\" y=\"23.939349\"/>\n     <use style=\"fill:#1f77b4;stroke:#1f77b4;\" x=\"177.812255\" xlink:href=\"#ma608fe5a43\" y=\"49.176963\"/>\n     <use style=\"fill:#1f77b4;stroke:#1f77b4;\" x=\"182.936222\" xlink:href=\"#ma608fe5a43\" y=\"85.160267\"/>\n     <use style=\"fill:#1f77b4;stroke:#1f77b4;\" x=\"188.060189\" xlink:href=\"#ma608fe5a43\" y=\"136.886562\"/>\n     <use style=\"fill:#1f77b4;stroke:#1f77b4;\" x=\"193.184155\" xlink:href=\"#ma608fe5a43\" y=\"182.532698\"/>\n     <use style=\"fill:#1f77b4;stroke:#1f77b4;\" x=\"198.308122\" xlink:href=\"#ma608fe5a43\" y=\"228.437936\"/>\n     <use style=\"fill:#1f77b4;stroke:#1f77b4;\" x=\"203.432089\" xlink:href=\"#ma608fe5a43\" y=\"255.235011\"/>\n     <use style=\"fill:#1f77b4;stroke:#1f77b4;\" x=\"208.556056\" xlink:href=\"#ma608fe5a43\" y=\"266.645455\"/>\n     <use style=\"fill:#1f77b4;stroke:#1f77b4;\" x=\"213.680023\" xlink:href=\"#ma608fe5a43\" y=\"257.85524\"/>\n     <use style=\"fill:#1f77b4;stroke:#1f77b4;\" x=\"218.80399\" xlink:href=\"#ma608fe5a43\" y=\"227.643597\"/>\n     <use style=\"fill:#1f77b4;stroke:#1f77b4;\" x=\"223.927957\" xlink:href=\"#ma608fe5a43\" y=\"181.494397\"/>\n     <use style=\"fill:#1f77b4;stroke:#1f77b4;\" x=\"229.051924\" xlink:href=\"#ma608fe5a43\" y=\"135.794051\"/>\n     <use style=\"fill:#1f77b4;stroke:#1f77b4;\" x=\"234.175891\" xlink:href=\"#ma608fe5a43\" y=\"84.19577\"/>\n     <use style=\"fill:#1f77b4;stroke:#1f77b4;\" x=\"239.299858\" xlink:href=\"#ma608fe5a43\" y=\"48.468694\"/>\n     <use style=\"fill:#1f77b4;stroke:#1f77b4;\" x=\"244.423825\" xlink:href=\"#ma608fe5a43\" y=\"23.651108\"/>\n     <use style=\"fill:#1f77b4;stroke:#1f77b4;\" x=\"249.547792\" xlink:href=\"#ma608fe5a43\" y=\"20.213466\"/>\n     <use style=\"fill:#1f77b4;stroke:#1f77b4;\" x=\"254.671759\" xlink:href=\"#ma608fe5a43\" y=\"37.678356\"/>\n     <use style=\"fill:#1f77b4;stroke:#1f77b4;\" x=\"259.795726\" xlink:href=\"#ma608fe5a43\" y=\"68.677399\"/>\n     <use style=\"fill:#1f77b4;stroke:#1f77b4;\" x=\"264.919693\" xlink:href=\"#ma608fe5a43\" y=\"117.51569\"/>\n     <use style=\"fill:#1f77b4;stroke:#1f77b4;\" x=\"270.04366\" xlink:href=\"#ma608fe5a43\" y=\"163.58852\"/>\n     <use style=\"fill:#1f77b4;stroke:#1f77b4;\" x=\"275.167627\" xlink:href=\"#ma608fe5a43\" y=\"213.294406\"/>\n     <use style=\"fill:#1f77b4;stroke:#1f77b4;\" x=\"280.291593\" xlink:href=\"#ma608fe5a43\" y=\"245.662603\"/>\n     <use style=\"fill:#1f77b4;stroke:#1f77b4;\" x=\"285.41556\" xlink:href=\"#ma608fe5a43\" y=\"265.188352\"/>\n     <use style=\"fill:#1f77b4;stroke:#1f77b4;\" x=\"290.539527\" xlink:href=\"#ma608fe5a43\" y=\"263.633805\"/>\n     <use style=\"fill:#1f77b4;stroke:#1f77b4;\" x=\"295.663494\" xlink:href=\"#ma608fe5a43\" y=\"240.78307\"/>\n     <use style=\"fill:#1f77b4;stroke:#1f77b4;\" x=\"300.787461\" xlink:href=\"#ma608fe5a43\" y=\"199.519661\"/>\n     <use style=\"fill:#1f77b4;stroke:#1f77b4;\" x=\"305.911428\" xlink:href=\"#ma608fe5a43\" y=\"155.322806\"/>\n     <use style=\"fill:#1f77b4;stroke:#1f77b4;\" x=\"311.035395\" xlink:href=\"#ma608fe5a43\" y=\"102.054517\"/>\n     <use style=\"fill:#1f77b4;stroke:#1f77b4;\" x=\"316.159362\" xlink:href=\"#ma608fe5a43\" y=\"62.188506\"/>\n     <use style=\"fill:#1f77b4;stroke:#1f77b4;\" x=\"321.283329\" xlink:href=\"#ma608fe5a43\" y=\"30.188249\"/>\n     <use style=\"fill:#1f77b4;stroke:#1f77b4;\" x=\"326.407296\" xlink:href=\"#ma608fe5a43\" y=\"19.554545\"/>\n     <use style=\"fill:#1f77b4;stroke:#1f77b4;\" x=\"331.531263\" xlink:href=\"#ma608fe5a43\" y=\"28.810604\"/>\n     <use style=\"fill:#1f77b4;stroke:#1f77b4;\" x=\"336.65523\" xlink:href=\"#ma608fe5a43\" y=\"54.051326\"/>\n     <use style=\"fill:#1f77b4;stroke:#1f77b4;\" x=\"341.779197\" xlink:href=\"#ma608fe5a43\" y=\"98.782099\"/>\n     <use style=\"fill:#1f77b4;stroke:#1f77b4;\" x=\"346.903164\" xlink:href=\"#ma608fe5a43\" y=\"144.131162\"/>\n     <use style=\"fill:#1f77b4;stroke:#1f77b4;\" x=\"352.027131\" xlink:href=\"#ma608fe5a43\" y=\"196.396518\"/>\n     <use style=\"fill:#1f77b4;stroke:#1f77b4;\" x=\"357.151098\" xlink:href=\"#ma608fe5a43\" y=\"233.527588\"/>\n     <use style=\"fill:#1f77b4;stroke:#1f77b4;\" x=\"362.275065\" xlink:href=\"#ma608fe5a43\" y=\"260.681075\"/>\n     <use style=\"fill:#1f77b4;stroke:#1f77b4;\" x=\"367.399032\" xlink:href=\"#ma608fe5a43\" y=\"265.673648\"/>\n     <use style=\"fill:#1f77b4;stroke:#1f77b4;\" x=\"372.522998\" xlink:href=\"#ma608fe5a43\" y=\"251.481781\"/>\n     <use style=\"fill:#1f77b4;stroke:#1f77b4;\" x=\"377.646965\" xlink:href=\"#ma608fe5a43\" y=\"216.134529\"/>\n     <use style=\"fill:#1f77b4;stroke:#1f77b4;\" x=\"382.770932\" xlink:href=\"#ma608fe5a43\" y=\"174.544779\"/>\n     <use style=\"fill:#1f77b4;stroke:#1f77b4;\" x=\"387.894899\" xlink:href=\"#ma608fe5a43\" y=\"120.936617\"/>\n     <use style=\"fill:#1f77b4;stroke:#1f77b4;\" x=\"393.018866\" xlink:href=\"#ma608fe5a43\" y=\"77.927144\"/>\n     <use style=\"fill:#1f77b4;stroke:#1f77b4;\" x=\"398.142833\" xlink:href=\"#ma608fe5a43\" y=\"39.543277\"/>\n     <use style=\"fill:#1f77b4;stroke:#1f77b4;\" x=\"403.2668\" xlink:href=\"#ma608fe5a43\" y=\"21.979039\"/>\n     <use style=\"fill:#1f77b4;stroke:#1f77b4;\" x=\"408.390767\" xlink:href=\"#ma608fe5a43\" y=\"22.795139\"/>\n     <use style=\"fill:#1f77b4;stroke:#1f77b4;\" x=\"413.514734\" xlink:href=\"#ma608fe5a43\" y=\"41.647267\"/>\n     <use style=\"fill:#1f77b4;stroke:#1f77b4;\" x=\"418.638701\" xlink:href=\"#ma608fe5a43\" y=\"81.153575\"/>\n     <use style=\"fill:#1f77b4;stroke:#1f77b4;\" x=\"423.762668\" xlink:href=\"#ma608fe5a43\" y=\"124.646484\"/>\n     <use style=\"fill:#1f77b4;stroke:#1f77b4;\" x=\"428.886635\" xlink:href=\"#ma608fe5a43\" y=\"178.166219\"/>\n     <use style=\"fill:#1f77b4;stroke:#1f77b4;\" x=\"434.010602\" xlink:href=\"#ma608fe5a43\" y=\"219.132983\"/>\n     <use style=\"fill:#1f77b4;stroke:#1f77b4;\" x=\"439.134569\" xlink:href=\"#ma608fe5a43\" y=\"253.236173\"/>\n     <use style=\"fill:#1f77b4;stroke:#1f77b4;\" x=\"444.258536\" xlink:href=\"#ma608fe5a43\" y=\"266.580865\"/>\n     <use style=\"fill:#1f77b4;stroke:#1f77b4;\" x=\"449.382503\" xlink:href=\"#ma608fe5a43\" y=\"259.472577\"/>\n     <use style=\"fill:#1f77b4;stroke:#1f77b4;\" x=\"454.50647\" xlink:href=\"#ma608fe5a43\" y=\"230.924119\"/>\n     <use style=\"fill:#1f77b4;stroke:#1f77b4;\" x=\"459.630436\" xlink:href=\"#ma608fe5a43\" y=\"192.979991\"/>\n     <use style=\"fill:#1f77b4;stroke:#1f77b4;\" x=\"464.754403\" xlink:href=\"#ma608fe5a43\" y=\"140.370575\"/>\n     <use style=\"fill:#1f77b4;stroke:#1f77b4;\" x=\"469.87837\" xlink:href=\"#ma608fe5a43\" y=\"95.291606\"/>\n     <use style=\"fill:#1f77b4;stroke:#1f77b4;\" x=\"475.002337\" xlink:href=\"#ma608fe5a43\" y=\"51.482591\"/>\n     <use style=\"fill:#1f77b4;stroke:#1f77b4;\" x=\"480.126304\" xlink:href=\"#ma608fe5a43\" y=\"27.426407\"/>\n     <use style=\"fill:#1f77b4;stroke:#1f77b4;\" x=\"485.250271\" xlink:href=\"#ma608fe5a43\" y=\"19.78217\"/>\n     <use style=\"fill:#1f77b4;stroke:#1f77b4;\" x=\"490.374238\" xlink:href=\"#ma608fe5a43\" y=\"31.774957\"/>\n     <use style=\"fill:#1f77b4;stroke:#1f77b4;\" x=\"495.498205\" xlink:href=\"#ma608fe5a43\" y=\"65.070309\"/>\n     <use style=\"fill:#1f77b4;stroke:#1f77b4;\" x=\"500.622172\" xlink:href=\"#ma608fe5a43\" y=\"105.621027\"/>\n     <use style=\"fill:#1f77b4;stroke:#1f77b4;\" x=\"505.746139\" xlink:href=\"#ma608fe5a43\" y=\"159.058729\"/>\n     <use style=\"fill:#1f77b4;stroke:#1f77b4;\" x=\"510.870106\" xlink:href=\"#ma608fe5a43\" y=\"202.838228\"/>\n     <use style=\"fill:#1f77b4;stroke:#1f77b4;\" x=\"515.994073\" xlink:href=\"#ma608fe5a43\" y=\"243.039549\"/>\n     <use style=\"fill:#1f77b4;stroke:#1f77b4;\" x=\"521.11804\" xlink:href=\"#ma608fe5a43\" y=\"264.403137\"/>\n     <use style=\"fill:#1f77b4;stroke:#1f77b4;\" x=\"526.242007\" xlink:href=\"#ma608fe5a43\" y=\"264.555924\"/>\n     <use style=\"fill:#1f77b4;stroke:#1f77b4;\" x=\"531.365974\" xlink:href=\"#ma608fe5a43\" y=\"243.519129\"/>\n     <use style=\"fill:#1f77b4;stroke:#1f77b4;\" x=\"536.489941\" xlink:href=\"#ma608fe5a43\" y=\"210.168105\"/>\n     <use style=\"fill:#1f77b4;stroke:#1f77b4;\" x=\"541.613908\" xlink:href=\"#ma608fe5a43\" y=\"159.871116\"/>\n     <use style=\"fill:#1f77b4;stroke:#1f77b4;\" x=\"546.737874\" xlink:href=\"#ma608fe5a43\" y=\"113.848293\"/>\n     <use style=\"fill:#1f77b4;stroke:#1f77b4;\" x=\"551.861841\" xlink:href=\"#ma608fe5a43\" y=\"65.708063\"/>\n     <use style=\"fill:#1f77b4;stroke:#1f77b4;\" x=\"556.985808\" xlink:href=\"#ma608fe5a43\" y=\"35.760625\"/>\n     <use style=\"fill:#1f77b4;stroke:#1f77b4;\" x=\"562.109775\" xlink:href=\"#ma608fe5a43\" y=\"19.846931\"/>\n     <use style=\"fill:#1f77b4;stroke:#1f77b4;\" x=\"567.233742\" xlink:href=\"#ma608fe5a43\" y=\"24.680913\"/>\n     <use style=\"fill:#1f77b4;stroke:#1f77b4;\" x=\"572.357709\" xlink:href=\"#ma608fe5a43\" y=\"50.933908\"/>\n     <use style=\"fill:#1f77b4;stroke:#1f77b4;\" x=\"577.481676\" xlink:href=\"#ma608fe5a43\" y=\"87.529865\"/>\n    </g>\n   </g>\n   <g id=\"patch_3\">\n    <path d=\"M 44.845313 279 \nL 44.845313 7.2 \n\" style=\"fill:none;stroke:#000000;stroke-linecap:square;stroke-linejoin:miter;stroke-width:0.8;\"/>\n   </g>\n   <g id=\"patch_4\">\n    <path d=\"M 602.845312 279 \nL 602.845312 7.2 \n\" style=\"fill:none;stroke:#000000;stroke-linecap:square;stroke-linejoin:miter;stroke-width:0.8;\"/>\n   </g>\n   <g id=\"patch_5\">\n    <path d=\"M 44.845313 279 \nL 602.845312 279 \n\" style=\"fill:none;stroke:#000000;stroke-linecap:square;stroke-linejoin:miter;stroke-width:0.8;\"/>\n   </g>\n   <g id=\"patch_6\">\n    <path d=\"M 44.845313 7.2 \nL 602.845312 7.2 \n\" style=\"fill:none;stroke:#000000;stroke-linecap:square;stroke-linejoin:miter;stroke-width:0.8;\"/>\n   </g>\n  </g>\n </g>\n <defs>\n  <clipPath id=\"p56b1147cc4\">\n   <rect height=\"271.8\" width=\"558\" x=\"44.845313\" y=\"7.2\"/>\n  </clipPath>\n </defs>\n</svg>\n",
      "image/png": "[encoded data removed]"
     },
     "metadata": {
      "needs_background": "light"
     }
    }
   ],
   "source": [
    "plt.figure(figsize=(10,5))\n",
    "plt.plot(n_fxp, y, marker='.')\n",
    "plt.show()"
   ]
  },
  {
   "source": [
    "Output format could be specified using `out_like` parameter, doing:"
   ],
   "cell_type": "markdown",
   "metadata": {}
  },
  {
   "cell_type": "code",
   "execution_count": 17,
   "metadata": {},
   "outputs": [
    {
     "output_type": "stream",
     "name": "stdout",
     "text": [
      "fxp-s24/22\n"
     ]
    }
   ],
   "source": [
    "y_24_22 = np.sin(2*np.pi*f*n_fxp/fs, out_like=Fxp(dtype='fxp-s24/22'))\n",
    "print(y_24_22.dtype)"
   ]
  },
  {
   "cell_type": "code",
   "execution_count": 18,
   "metadata": {},
   "outputs": [
    {
     "output_type": "display_data",
     "data": {
      "text/plain": "<Figure size 720x360 with 1 Axes>",
      "image/svg+xml": "<?xml version=\"1.0\" encoding=\"utf-8\" standalone=\"no\"?>\n<!DOCTYPE svg PUBLIC \"-//W3C//DTD SVG 1.1//EN\"\n  \"http://www.w3.org/Graphics/SVG/1.1/DTD/svg11.dtd\">\n<!-- Created with matplotlib (https://matplotlib.org/) -->\n<svg height=\"302.878125pt\" version=\"1.1\" viewBox=\"0 0 610.045312 302.878125\" width=\"610.045312pt\" xmlns=\"http://www.w3.org/2000/svg\" xmlns:xlink=\"http://www.w3.org/1999/xlink\">\n <defs>\n  <style type=\"text/css\">\n*{stroke-linecap:butt;stroke-linejoin:round;white-space:pre;}\n  </style>\n </defs>\n <g id=\"figure_1\">\n  <g id=\"patch_1\">\n   <path d=\"M 0 302.878125 \nL 610.045312 302.878125 \nL 610.045312 0 \nL 0 0 \nz\n\" style=\"fill:none;\"/>\n  </g>\n  <g id=\"axes_1\">\n   <g id=\"patch_2\">\n    <path d=\"M 44.845313 279 \nL 602.845312 279 \nL 602.845312 7.2 \nL 44.845313 7.2 \nz\n\" style=\"fill:#ffffff;\"/>\n   </g>\n   <g id=\"matplotlib.axis_1\">\n    <g id=\"xtick_1\">\n     <g id=\"line2d_1\">\n      <defs>\n       <path d=\"M 0 0 \nL 0 3.5 \n\" id=\"m607a16609c\" style=\"stroke:#000000;stroke-width:0.8;\"/>\n      </defs>\n      <g>\n       <use style=\"stroke:#000000;stroke-width:0.8;\" x=\"70.208949\" xlink:href=\"#m607a16609c\" y=\"279\"/>\n      </g>\n     </g>\n     <g id=\"text_1\">\n      <!-- 0 -->\n      <defs>\n       <path d=\"M 31.78125 66.40625 \nQ 24.171875 66.40625 20.328125 58.90625 \nQ 16.5 51.421875 16.5 36.375 \nQ 16.5 21.390625 20.328125 13.890625 \nQ 24.171875 6.390625 31.78125 6.390625 \nQ 39.453125 6.390625 43.28125 13.890625 \nQ 47.125 21.390625 47.125 36.375 \nQ 47.125 51.421875 43.28125 58.90625 \nQ 39.453125 66.40625 31.78125 66.40625 \nz\nM 31.78125 74.21875 \nQ 44.046875 74.21875 50.515625 64.515625 \nQ 56.984375 54.828125 56.984375 36.375 \nQ 56.984375 17.96875 50.515625 8.265625 \nQ 44.046875 -1.421875 31.78125 -1.421875 \nQ 19.53125 -1.421875 13.0625 8.265625 \nQ 6.59375 17.96875 6.59375 36.375 \nQ 6.59375 54.828125 13.0625 64.515625 \nQ 19.53125 74.21875 31.78125 74.21875 \nz\n\" id=\"DejaVuSans-48\"/>\n      </defs>\n      <g transform=\"translate(67.027699 293.598437)scale(0.1 -0.1)\">\n       <use xlink:href=\"#DejaVuSans-48\"/>\n      </g>\n     </g>\n    </g>\n    <g id=\"xtick_2\">\n     <g id=\"line2d_2\">\n      <g>\n       <use style=\"stroke:#000000;stroke-width:0.8;\" x=\"172.688288\" xlink:href=\"#m607a16609c\" y=\"279\"/>\n      </g>\n     </g>\n     <g id=\"text_2\">\n      <!-- 20 -->\n      <defs>\n       <path d=\"M 19.1875 8.296875 \nL 53.609375 8.296875 \nL 53.609375 0 \nL 7.328125 0 \nL 7.328125 8.296875 \nQ 12.9375 14.109375 22.625 23.890625 \nQ 32.328125 33.6875 34.8125 36.53125 \nQ 39.546875 41.84375 41.421875 45.53125 \nQ 43.3125 49.21875 43.3125 52.78125 \nQ 43.3125 58.59375 39.234375 62.25 \nQ 35.15625 65.921875 28.609375 65.921875 \nQ 23.96875 65.921875 18.8125 64.3125 \nQ 13.671875 62.703125 7.8125 59.421875 \nL 7.8125 69.390625 \nQ 13.765625 71.78125 18.9375 73 \nQ 24.125 74.21875 28.421875 74.21875 \nQ 39.75 74.21875 46.484375 68.546875 \nQ 53.21875 62.890625 53.21875 53.421875 \nQ 53.21875 48.921875 51.53125 44.890625 \nQ 49.859375 40.875 45.40625 35.40625 \nQ 44.1875 33.984375 37.640625 27.21875 \nQ 31.109375 20.453125 19.1875 8.296875 \nz\n\" id=\"DejaVuSans-50\"/>\n      </defs>\n      <g transform=\"translate(166.325788 293.598437)scale(0.1 -0.1)\">\n       <use xlink:href=\"#DejaVuSans-50\"/>\n       <use x=\"63.623047\" xlink:href=\"#DejaVuSans-48\"/>\n      </g>\n     </g>\n    </g>\n    <g id=\"xtick_3\">\n     <g id=\"line2d_3\">\n      <g>\n       <use style=\"stroke:#000000;stroke-width:0.8;\" x=\"275.167627\" xlink:href=\"#m607a16609c\" y=\"279\"/>\n      </g>\n     </g>\n     <g id=\"text_3\">\n      <!-- 40 -->\n      <defs>\n       <path d=\"M 37.796875 64.3125 \nL 12.890625 25.390625 \nL 37.796875 25.390625 \nz\nM 35.203125 72.90625 \nL 47.609375 72.90625 \nL 47.609375 25.390625 \nL 58.015625 25.390625 \nL 58.015625 17.1875 \nL 47.609375 17.1875 \nL 47.609375 0 \nL 37.796875 0 \nL 37.796875 17.1875 \nL 4.890625 17.1875 \nL 4.890625 26.703125 \nz\n\" id=\"DejaVuSans-52\"/>\n      </defs>\n      <g transform=\"translate(268.805127 293.598437)scale(0.1 -0.1)\">\n       <use xlink:href=\"#DejaVuSans-52\"/>\n       <use x=\"63.623047\" xlink:href=\"#DejaVuSans-48\"/>\n      </g>\n     </g>\n    </g>\n    <g id=\"xtick_4\">\n     <g id=\"line2d_4\">\n      <g>\n       <use style=\"stroke:#000000;stroke-width:0.8;\" x=\"377.646965\" xlink:href=\"#m607a16609c\" y=\"279\"/>\n      </g>\n     </g>\n     <g id=\"text_4\">\n      <!-- 60 -->\n      <defs>\n       <path d=\"M 33.015625 40.375 \nQ 26.375 40.375 22.484375 35.828125 \nQ 18.609375 31.296875 18.609375 23.390625 \nQ 18.609375 15.53125 22.484375 10.953125 \nQ 26.375 6.390625 33.015625 6.390625 \nQ 39.65625 6.390625 43.53125 10.953125 \nQ 47.40625 15.53125 47.40625 23.390625 \nQ 47.40625 31.296875 43.53125 35.828125 \nQ 39.65625 40.375 33.015625 40.375 \nz\nM 52.59375 71.296875 \nL 52.59375 62.3125 \nQ 48.875 64.0625 45.09375 64.984375 \nQ 41.3125 65.921875 37.59375 65.921875 \nQ 27.828125 65.921875 22.671875 59.328125 \nQ 17.53125 52.734375 16.796875 39.40625 \nQ 19.671875 43.65625 24.015625 45.921875 \nQ 28.375 48.1875 33.59375 48.1875 \nQ 44.578125 48.1875 50.953125 41.515625 \nQ 57.328125 34.859375 57.328125 23.390625 \nQ 57.328125 12.15625 50.6875 5.359375 \nQ 44.046875 -1.421875 33.015625 -1.421875 \nQ 20.359375 -1.421875 13.671875 8.265625 \nQ 6.984375 17.96875 6.984375 36.375 \nQ 6.984375 53.65625 15.1875 63.9375 \nQ 23.390625 74.21875 37.203125 74.21875 \nQ 40.921875 74.21875 44.703125 73.484375 \nQ 48.484375 72.75 52.59375 71.296875 \nz\n\" id=\"DejaVuSans-54\"/>\n      </defs>\n      <g transform=\"translate(371.284465 293.598437)scale(0.1 -0.1)\">\n       <use xlink:href=\"#DejaVuSans-54\"/>\n       <use x=\"63.623047\" xlink:href=\"#DejaVuSans-48\"/>\n      </g>\n     </g>\n    </g>\n    <g id=\"xtick_5\">\n     <g id=\"line2d_5\">\n      <g>\n       <use style=\"stroke:#000000;stroke-width:0.8;\" x=\"480.126304\" xlink:href=\"#m607a16609c\" y=\"279\"/>\n      </g>\n     </g>\n     <g id=\"text_5\">\n      <!-- 80 -->\n      <defs>\n       <path d=\"M 31.78125 34.625 \nQ 24.75 34.625 20.71875 30.859375 \nQ 16.703125 27.09375 16.703125 20.515625 \nQ 16.703125 13.921875 20.71875 10.15625 \nQ 24.75 6.390625 31.78125 6.390625 \nQ 38.8125 6.390625 42.859375 10.171875 \nQ 46.921875 13.96875 46.921875 20.515625 \nQ 46.921875 27.09375 42.890625 30.859375 \nQ 38.875 34.625 31.78125 34.625 \nz\nM 21.921875 38.8125 \nQ 15.578125 40.375 12.03125 44.71875 \nQ 8.5 49.078125 8.5 55.328125 \nQ 8.5 64.0625 14.71875 69.140625 \nQ 20.953125 74.21875 31.78125 74.21875 \nQ 42.671875 74.21875 48.875 69.140625 \nQ 55.078125 64.0625 55.078125 55.328125 \nQ 55.078125 49.078125 51.53125 44.71875 \nQ 48 40.375 41.703125 38.8125 \nQ 48.828125 37.15625 52.796875 32.3125 \nQ 56.78125 27.484375 56.78125 20.515625 \nQ 56.78125 9.90625 50.3125 4.234375 \nQ 43.84375 -1.421875 31.78125 -1.421875 \nQ 19.734375 -1.421875 13.25 4.234375 \nQ 6.78125 9.90625 6.78125 20.515625 \nQ 6.78125 27.484375 10.78125 32.3125 \nQ 14.796875 37.15625 21.921875 38.8125 \nz\nM 18.3125 54.390625 \nQ 18.3125 48.734375 21.84375 45.5625 \nQ 25.390625 42.390625 31.78125 42.390625 \nQ 38.140625 42.390625 41.71875 45.5625 \nQ 45.3125 48.734375 45.3125 54.390625 \nQ 45.3125 60.0625 41.71875 63.234375 \nQ 38.140625 66.40625 31.78125 66.40625 \nQ 25.390625 66.40625 21.84375 63.234375 \nQ 18.3125 60.0625 18.3125 54.390625 \nz\n\" id=\"DejaVuSans-56\"/>\n      </defs>\n      <g transform=\"translate(473.763804 293.598437)scale(0.1 -0.1)\">\n       <use xlink:href=\"#DejaVuSans-56\"/>\n       <use x=\"63.623047\" xlink:href=\"#DejaVuSans-48\"/>\n      </g>\n     </g>\n    </g>\n    <g id=\"xtick_6\">\n     <g id=\"line2d_6\">\n      <g>\n       <use style=\"stroke:#000000;stroke-width:0.8;\" x=\"582.605643\" xlink:href=\"#m607a16609c\" y=\"279\"/>\n      </g>\n     </g>\n     <g id=\"text_6\">\n      <!-- 100 -->\n      <defs>\n       <path d=\"M 12.40625 8.296875 \nL 28.515625 8.296875 \nL 28.515625 63.921875 \nL 10.984375 60.40625 \nL 10.984375 69.390625 \nL 28.421875 72.90625 \nL 38.28125 72.90625 \nL 38.28125 8.296875 \nL 54.390625 8.296875 \nL 54.390625 0 \nL 12.40625 0 \nz\n\" id=\"DejaVuSans-49\"/>\n      </defs>\n      <g transform=\"translate(573.061893 293.598437)scale(0.1 -0.1)\">\n       <use xlink:href=\"#DejaVuSans-49\"/>\n       <use x=\"63.623047\" xlink:href=\"#DejaVuSans-48\"/>\n       <use x=\"127.246094\" xlink:href=\"#DejaVuSans-48\"/>\n      </g>\n     </g>\n    </g>\n   </g>\n   <g id=\"matplotlib.axis_2\">\n    <g id=\"ytick_1\">\n     <g id=\"line2d_7\">\n      <defs>\n       <path d=\"M 0 0 \nL -3.5 0 \n\" id=\"mac1a26de00\" style=\"stroke:#000000;stroke-width:0.8;\"/>\n      </defs>\n      <g>\n       <use style=\"stroke:#000000;stroke-width:0.8;\" x=\"44.845313\" xlink:href=\"#mac1a26de00\" y=\"266.646692\"/>\n      </g>\n     </g>\n     <g id=\"text_7\">\n      <!-- −1.00 -->\n      <defs>\n       <path d=\"M 10.59375 35.5 \nL 73.1875 35.5 \nL 73.1875 27.203125 \nL 10.59375 27.203125 \nz\n\" id=\"DejaVuSans-8722\"/>\n       <path d=\"M 10.6875 12.40625 \nL 21 12.40625 \nL 21 0 \nL 10.6875 0 \nz\n\" id=\"DejaVuSans-46\"/>\n      </defs>\n      <g transform=\"translate(7.2 270.445911)scale(0.1 -0.1)\">\n       <use xlink:href=\"#DejaVuSans-8722\"/>\n       <use x=\"83.789062\" xlink:href=\"#DejaVuSans-49\"/>\n       <use x=\"147.412109\" xlink:href=\"#DejaVuSans-46\"/>\n       <use x=\"179.199219\" xlink:href=\"#DejaVuSans-48\"/>\n       <use x=\"242.822266\" xlink:href=\"#DejaVuSans-48\"/>\n      </g>\n     </g>\n    </g>\n    <g id=\"ytick_2\">\n     <g id=\"line2d_8\">\n      <g>\n       <use style=\"stroke:#000000;stroke-width:0.8;\" x=\"44.845313\" xlink:href=\"#mac1a26de00\" y=\"235.744286\"/>\n      </g>\n     </g>\n     <g id=\"text_8\">\n      <!-- −0.75 -->\n      <defs>\n       <path d=\"M 8.203125 72.90625 \nL 55.078125 72.90625 \nL 55.078125 68.703125 \nL 28.609375 0 \nL 18.3125 0 \nL 43.21875 64.59375 \nL 8.203125 64.59375 \nz\n\" id=\"DejaVuSans-55\"/>\n       <path d=\"M 10.796875 72.90625 \nL 49.515625 72.90625 \nL 49.515625 64.59375 \nL 19.828125 64.59375 \nL 19.828125 46.734375 \nQ 21.96875 47.46875 24.109375 47.828125 \nQ 26.265625 48.1875 28.421875 48.1875 \nQ 40.625 48.1875 47.75 41.5 \nQ 54.890625 34.8125 54.890625 23.390625 \nQ 54.890625 11.625 47.5625 5.09375 \nQ 40.234375 -1.421875 26.90625 -1.421875 \nQ 22.3125 -1.421875 17.546875 -0.640625 \nQ 12.796875 0.140625 7.71875 1.703125 \nL 7.71875 11.625 \nQ 12.109375 9.234375 16.796875 8.0625 \nQ 21.484375 6.890625 26.703125 6.890625 \nQ 35.15625 6.890625 40.078125 11.328125 \nQ 45.015625 15.765625 45.015625 23.390625 \nQ 45.015625 31 40.078125 35.4375 \nQ 35.15625 39.890625 26.703125 39.890625 \nQ 22.75 39.890625 18.8125 39.015625 \nQ 14.890625 38.140625 10.796875 36.28125 \nz\n\" id=\"DejaVuSans-53\"/>\n      </defs>\n      <g transform=\"translate(7.2 239.543504)scale(0.1 -0.1)\">\n       <use xlink:href=\"#DejaVuSans-8722\"/>\n       <use x=\"83.789062\" xlink:href=\"#DejaVuSans-48\"/>\n       <use x=\"147.412109\" xlink:href=\"#DejaVuSans-46\"/>\n       <use x=\"179.199219\" xlink:href=\"#DejaVuSans-55\"/>\n       <use x=\"242.822266\" xlink:href=\"#DejaVuSans-53\"/>\n      </g>\n     </g>\n    </g>\n    <g id=\"ytick_3\">\n     <g id=\"line2d_9\">\n      <g>\n       <use style=\"stroke:#000000;stroke-width:0.8;\" x=\"44.845313\" xlink:href=\"#mac1a26de00\" y=\"204.841879\"/>\n      </g>\n     </g>\n     <g id=\"text_9\">\n      <!-- −0.50 -->\n      <g transform=\"translate(7.2 208.641097)scale(0.1 -0.1)\">\n       <use xlink:href=\"#DejaVuSans-8722\"/>\n       <use x=\"83.789062\" xlink:href=\"#DejaVuSans-48\"/>\n       <use x=\"147.412109\" xlink:href=\"#DejaVuSans-46\"/>\n       <use x=\"179.199219\" xlink:href=\"#DejaVuSans-53\"/>\n       <use x=\"242.822266\" xlink:href=\"#DejaVuSans-48\"/>\n      </g>\n     </g>\n    </g>\n    <g id=\"ytick_4\">\n     <g id=\"line2d_10\">\n      <g>\n       <use style=\"stroke:#000000;stroke-width:0.8;\" x=\"44.845313\" xlink:href=\"#mac1a26de00\" y=\"173.939472\"/>\n      </g>\n     </g>\n     <g id=\"text_10\">\n      <!-- −0.25 -->\n      <g transform=\"translate(7.2 177.738691)scale(0.1 -0.1)\">\n       <use xlink:href=\"#DejaVuSans-8722\"/>\n       <use x=\"83.789062\" xlink:href=\"#DejaVuSans-48\"/>\n       <use x=\"147.412109\" xlink:href=\"#DejaVuSans-46\"/>\n       <use x=\"179.199219\" xlink:href=\"#DejaVuSans-50\"/>\n       <use x=\"242.822266\" xlink:href=\"#DejaVuSans-53\"/>\n      </g>\n     </g>\n    </g>\n    <g id=\"ytick_5\">\n     <g id=\"line2d_11\">\n      <g>\n       <use style=\"stroke:#000000;stroke-width:0.8;\" x=\"44.845313\" xlink:href=\"#mac1a26de00\" y=\"143.037065\"/>\n      </g>\n     </g>\n     <g id=\"text_11\">\n      <!-- 0.00 -->\n      <g transform=\"translate(15.579688 146.836284)scale(0.1 -0.1)\">\n       <use xlink:href=\"#DejaVuSans-48\"/>\n       <use x=\"63.623047\" xlink:href=\"#DejaVuSans-46\"/>\n       <use x=\"95.410156\" xlink:href=\"#DejaVuSans-48\"/>\n       <use x=\"159.033203\" xlink:href=\"#DejaVuSans-48\"/>\n      </g>\n     </g>\n    </g>\n    <g id=\"ytick_6\">\n     <g id=\"line2d_12\">\n      <g>\n       <use style=\"stroke:#000000;stroke-width:0.8;\" x=\"44.845313\" xlink:href=\"#mac1a26de00\" y=\"112.134658\"/>\n      </g>\n     </g>\n     <g id=\"text_12\">\n      <!-- 0.25 -->\n      <g transform=\"translate(15.579688 115.933877)scale(0.1 -0.1)\">\n       <use xlink:href=\"#DejaVuSans-48\"/>\n       <use x=\"63.623047\" xlink:href=\"#DejaVuSans-46\"/>\n       <use x=\"95.410156\" xlink:href=\"#DejaVuSans-50\"/>\n       <use x=\"159.033203\" xlink:href=\"#DejaVuSans-53\"/>\n      </g>\n     </g>\n    </g>\n    <g id=\"ytick_7\">\n     <g id=\"line2d_13\">\n      <g>\n       <use style=\"stroke:#000000;stroke-width:0.8;\" x=\"44.845313\" xlink:href=\"#mac1a26de00\" y=\"81.232251\"/>\n      </g>\n     </g>\n     <g id=\"text_13\">\n      <!-- 0.50 -->\n      <g transform=\"translate(15.579688 85.03147)scale(0.1 -0.1)\">\n       <use xlink:href=\"#DejaVuSans-48\"/>\n       <use x=\"63.623047\" xlink:href=\"#DejaVuSans-46\"/>\n       <use x=\"95.410156\" xlink:href=\"#DejaVuSans-53\"/>\n       <use x=\"159.033203\" xlink:href=\"#DejaVuSans-48\"/>\n      </g>\n     </g>\n    </g>\n    <g id=\"ytick_8\">\n     <g id=\"line2d_14\">\n      <g>\n       <use style=\"stroke:#000000;stroke-width:0.8;\" x=\"44.845313\" xlink:href=\"#mac1a26de00\" y=\"50.329845\"/>\n      </g>\n     </g>\n     <g id=\"text_14\">\n      <!-- 0.75 -->\n      <g transform=\"translate(15.579688 54.129063)scale(0.1 -0.1)\">\n       <use xlink:href=\"#DejaVuSans-48\"/>\n       <use x=\"63.623047\" xlink:href=\"#DejaVuSans-46\"/>\n       <use x=\"95.410156\" xlink:href=\"#DejaVuSans-55\"/>\n       <use x=\"159.033203\" xlink:href=\"#DejaVuSans-53\"/>\n      </g>\n     </g>\n    </g>\n    <g id=\"ytick_9\">\n     <g id=\"line2d_15\">\n      <g>\n       <use style=\"stroke:#000000;stroke-width:0.8;\" x=\"44.845313\" xlink:href=\"#mac1a26de00\" y=\"19.427438\"/>\n      </g>\n     </g>\n     <g id=\"text_15\">\n      <!-- 1.00 -->\n      <g transform=\"translate(15.579688 23.226657)scale(0.1 -0.1)\">\n       <use xlink:href=\"#DejaVuSans-49\"/>\n       <use x=\"63.623047\" xlink:href=\"#DejaVuSans-46\"/>\n       <use x=\"95.410156\" xlink:href=\"#DejaVuSans-48\"/>\n       <use x=\"159.033203\" xlink:href=\"#DejaVuSans-48\"/>\n      </g>\n     </g>\n    </g>\n   </g>\n   <g id=\"line2d_16\">\n    <path clip-path=\"url(#p061d7ec4ba)\" d=\"M 70.208949 143.037065 \nL 75.332916 97.762264 \nL 80.456883 53.295406 \nL 85.58085 28.396944 \nL 90.704817 19.609008 \nL 95.828784 30.639174 \nL 100.952751 63.019307 \nL 106.076717 103.088351 \nL 111.200684 156.411017 \nL 116.324651 200.490658 \nL 121.448618 241.448984 \nL 126.572585 262.005803 \nL 131.696552 265.016012 \nL 136.820519 249.209626 \nL 141.944486 212.391451 \nL 147.068453 162.508827 \nL 152.19242 116.446182 \nL 157.316387 67.806342 \nL 162.440354 37.11032 \nL 167.564321 20.095099 \nL 172.688288 23.939363 \nL 177.812255 49.176975 \nL 182.936222 85.160271 \nL 188.060189 136.886591 \nL 193.184155 182.532695 \nL 198.308122 228.437936 \nL 203.432089 255.235026 \nL 208.556056 266.645455 \nL 213.680023 257.855249 \nL 218.80399 227.643609 \nL 223.927957 181.494408 \nL 229.051924 135.794078 \nL 234.175891 84.195779 \nL 239.299858 48.468703 \nL 244.423825 23.651109 \nL 249.547792 20.213484 \nL 254.671759 37.67837 \nL 259.795726 68.677412 \nL 264.919693 117.515708 \nL 270.04366 163.58852 \nL 275.167627 213.294408 \nL 280.291593 245.662605 \nL 285.41556 265.188358 \nL 290.539527 263.63383 \nL 295.663494 240.78309 \nL 300.787461 199.519653 \nL 305.911428 155.322806 \nL 311.035395 102.054543 \nL 316.159362 62.188524 \nL 321.283329 30.18827 \nL 326.407296 19.554545 \nL 331.531263 28.810626 \nL 336.65523 54.051333 \nL 341.779197 98.782132 \nL 346.903164 144.13117 \nL 352.027131 196.396511 \nL 357.151098 233.527607 \nL 362.275065 260.681089 \nL 367.399032 265.673654 \nL 372.522998 251.481798 \nL 377.646965 216.134541 \nL 382.770932 174.544773 \nL 387.894899 120.936653 \nL 393.018866 77.927157 \nL 398.142833 39.543284 \nL 403.2668 21.979052 \nL 408.390767 22.795158 \nL 413.514734 41.647266 \nL 418.638701 81.153594 \nL 423.762668 124.6465 \nL 428.886635 178.166208 \nL 434.010602 219.132992 \nL 439.134569 253.236197 \nL 444.258536 266.580884 \nL 449.382503 259.472578 \nL 454.50647 230.924125 \nL 459.630436 192.979987 \nL 464.754403 140.370603 \nL 469.87837 95.291636 \nL 475.002337 51.482596 \nL 480.126304 27.426411 \nL 485.250271 19.782178 \nL 490.374238 31.774979 \nL 495.498205 65.070329 \nL 500.622172 105.621044 \nL 505.746139 159.058735 \nL 510.870106 202.838245 \nL 515.994073 243.039554 \nL 521.11804 264.403137 \nL 526.242007 264.555943 \nL 531.365974 243.519133 \nL 536.489941 210.168113 \nL 541.613908 159.871099 \nL 546.737874 113.848328 \nL 551.861841 65.708078 \nL 556.985808 35.760644 \nL 562.109775 19.846926 \nL 567.233742 24.680908 \nL 572.357709 50.933908 \nL 577.481676 87.529873 \n\" style=\"fill:none;stroke:#1f77b4;stroke-linecap:square;stroke-width:1.5;\"/>\n    <defs>\n     <path d=\"M 0 1.5 \nC 0.397805 1.5 0.77937 1.341951 1.06066 1.06066 \nC 1.341951 0.77937 1.5 0.397805 1.5 0 \nC 1.5 -0.397805 1.341951 -0.77937 1.06066 -1.06066 \nC 0.77937 -1.341951 0.397805 -1.5 0 -1.5 \nC -0.397805 -1.5 -0.77937 -1.341951 -1.06066 -1.06066 \nC -1.341951 -0.77937 -1.5 -0.397805 -1.5 0 \nC -1.5 0.397805 -1.341951 0.77937 -1.06066 1.06066 \nC -0.77937 1.341951 -0.397805 1.5 0 1.5 \nz\n\" id=\"m372e62a973\" style=\"stroke:#1f77b4;\"/>\n    </defs>\n    <g clip-path=\"url(#p061d7ec4ba)\">\n     <use style=\"fill:#1f77b4;stroke:#1f77b4;\" x=\"70.208949\" xlink:href=\"#m372e62a973\" y=\"143.037065\"/>\n     <use style=\"fill:#1f77b4;stroke:#1f77b4;\" x=\"75.332916\" xlink:href=\"#m372e62a973\" y=\"97.762264\"/>\n     <use style=\"fill:#1f77b4;stroke:#1f77b4;\" x=\"80.456883\" xlink:href=\"#m372e62a973\" y=\"53.295406\"/>\n     <use style=\"fill:#1f77b4;stroke:#1f77b4;\" x=\"85.58085\" xlink:href=\"#m372e62a973\" y=\"28.396944\"/>\n     <use style=\"fill:#1f77b4;stroke:#1f77b4;\" x=\"90.704817\" xlink:href=\"#m372e62a973\" y=\"19.609008\"/>\n     <use style=\"fill:#1f77b4;stroke:#1f77b4;\" x=\"95.828784\" xlink:href=\"#m372e62a973\" y=\"30.639174\"/>\n     <use style=\"fill:#1f77b4;stroke:#1f77b4;\" x=\"100.952751\" xlink:href=\"#m372e62a973\" y=\"63.019307\"/>\n     <use style=\"fill:#1f77b4;stroke:#1f77b4;\" x=\"106.076717\" xlink:href=\"#m372e62a973\" y=\"103.088351\"/>\n     <use style=\"fill:#1f77b4;stroke:#1f77b4;\" x=\"111.200684\" xlink:href=\"#m372e62a973\" y=\"156.411017\"/>\n     <use style=\"fill:#1f77b4;stroke:#1f77b4;\" x=\"116.324651\" xlink:href=\"#m372e62a973\" y=\"200.490658\"/>\n     <use style=\"fill:#1f77b4;stroke:#1f77b4;\" x=\"121.448618\" xlink:href=\"#m372e62a973\" y=\"241.448984\"/>\n     <use style=\"fill:#1f77b4;stroke:#1f77b4;\" x=\"126.572585\" xlink:href=\"#m372e62a973\" y=\"262.005803\"/>\n     <use style=\"fill:#1f77b4;stroke:#1f77b4;\" x=\"131.696552\" xlink:href=\"#m372e62a973\" y=\"265.016012\"/>\n     <use style=\"fill:#1f77b4;stroke:#1f77b4;\" x=\"136.820519\" xlink:href=\"#m372e62a973\" y=\"249.209626\"/>\n     <use style=\"fill:#1f77b4;stroke:#1f77b4;\" x=\"141.944486\" xlink:href=\"#m372e62a973\" y=\"212.391451\"/>\n     <use style=\"fill:#1f77b4;stroke:#1f77b4;\" x=\"147.068453\" xlink:href=\"#m372e62a973\" y=\"162.508827\"/>\n     <use style=\"fill:#1f77b4;stroke:#1f77b4;\" x=\"152.19242\" xlink:href=\"#m372e62a973\" y=\"116.446182\"/>\n     <use style=\"fill:#1f77b4;stroke:#1f77b4;\" x=\"157.316387\" xlink:href=\"#m372e62a973\" y=\"67.806342\"/>\n     <use style=\"fill:#1f77b4;stroke:#1f77b4;\" x=\"162.440354\" xlink:href=\"#m372e62a973\" y=\"37.11032\"/>\n     <use style=\"fill:#1f77b4;stroke:#1f77b4;\" x=\"167.564321\" xlink:href=\"#m372e62a973\" y=\"20.095099\"/>\n     <use style=\"fill:#1f77b4;stroke:#1f77b4;\" x=\"172.688288\" xlink:href=\"#m372e62a973\" y=\"23.939363\"/>\n     <use style=\"fill:#1f77b4;stroke:#1f77b4;\" x=\"177.812255\" xlink:href=\"#m372e62a973\" y=\"49.176975\"/>\n     <use style=\"fill:#1f77b4;stroke:#1f77b4;\" x=\"182.936222\" xlink:href=\"#m372e62a973\" y=\"85.160271\"/>\n     <use style=\"fill:#1f77b4;stroke:#1f77b4;\" x=\"188.060189\" xlink:href=\"#m372e62a973\" y=\"136.886591\"/>\n     <use style=\"fill:#1f77b4;stroke:#1f77b4;\" x=\"193.184155\" xlink:href=\"#m372e62a973\" y=\"182.532695\"/>\n     <use style=\"fill:#1f77b4;stroke:#1f77b4;\" x=\"198.308122\" xlink:href=\"#m372e62a973\" y=\"228.437936\"/>\n     <use style=\"fill:#1f77b4;stroke:#1f77b4;\" x=\"203.432089\" xlink:href=\"#m372e62a973\" y=\"255.235026\"/>\n     <use style=\"fill:#1f77b4;stroke:#1f77b4;\" x=\"208.556056\" xlink:href=\"#m372e62a973\" y=\"266.645455\"/>\n     <use style=\"fill:#1f77b4;stroke:#1f77b4;\" x=\"213.680023\" xlink:href=\"#m372e62a973\" y=\"257.855249\"/>\n     <use style=\"fill:#1f77b4;stroke:#1f77b4;\" x=\"218.80399\" xlink:href=\"#m372e62a973\" y=\"227.643609\"/>\n     <use style=\"fill:#1f77b4;stroke:#1f77b4;\" x=\"223.927957\" xlink:href=\"#m372e62a973\" y=\"181.494408\"/>\n     <use style=\"fill:#1f77b4;stroke:#1f77b4;\" x=\"229.051924\" xlink:href=\"#m372e62a973\" y=\"135.794078\"/>\n     <use style=\"fill:#1f77b4;stroke:#1f77b4;\" x=\"234.175891\" xlink:href=\"#m372e62a973\" y=\"84.195779\"/>\n     <use style=\"fill:#1f77b4;stroke:#1f77b4;\" x=\"239.299858\" xlink:href=\"#m372e62a973\" y=\"48.468703\"/>\n     <use style=\"fill:#1f77b4;stroke:#1f77b4;\" x=\"244.423825\" xlink:href=\"#m372e62a973\" y=\"23.651109\"/>\n     <use style=\"fill:#1f77b4;stroke:#1f77b4;\" x=\"249.547792\" xlink:href=\"#m372e62a973\" y=\"20.213484\"/>\n     <use style=\"fill:#1f77b4;stroke:#1f77b4;\" x=\"254.671759\" xlink:href=\"#m372e62a973\" y=\"37.67837\"/>\n     <use style=\"fill:#1f77b4;stroke:#1f77b4;\" x=\"259.795726\" xlink:href=\"#m372e62a973\" y=\"68.677412\"/>\n     <use style=\"fill:#1f77b4;stroke:#1f77b4;\" x=\"264.919693\" xlink:href=\"#m372e62a973\" y=\"117.515708\"/>\n     <use style=\"fill:#1f77b4;stroke:#1f77b4;\" x=\"270.04366\" xlink:href=\"#m372e62a973\" y=\"163.58852\"/>\n     <use style=\"fill:#1f77b4;stroke:#1f77b4;\" x=\"275.167627\" xlink:href=\"#m372e62a973\" y=\"213.294408\"/>\n     <use style=\"fill:#1f77b4;stroke:#1f77b4;\" x=\"280.291593\" xlink:href=\"#m372e62a973\" y=\"245.662605\"/>\n     <use style=\"fill:#1f77b4;stroke:#1f77b4;\" x=\"285.41556\" xlink:href=\"#m372e62a973\" y=\"265.188358\"/>\n     <use style=\"fill:#1f77b4;stroke:#1f77b4;\" x=\"290.539527\" xlink:href=\"#m372e62a973\" y=\"263.63383\"/>\n     <use style=\"fill:#1f77b4;stroke:#1f77b4;\" x=\"295.663494\" xlink:href=\"#m372e62a973\" y=\"240.78309\"/>\n     <use style=\"fill:#1f77b4;stroke:#1f77b4;\" x=\"300.787461\" xlink:href=\"#m372e62a973\" y=\"199.519653\"/>\n     <use style=\"fill:#1f77b4;stroke:#1f77b4;\" x=\"305.911428\" xlink:href=\"#m372e62a973\" y=\"155.322806\"/>\n     <use style=\"fill:#1f77b4;stroke:#1f77b4;\" x=\"311.035395\" xlink:href=\"#m372e62a973\" y=\"102.054543\"/>\n     <use style=\"fill:#1f77b4;stroke:#1f77b4;\" x=\"316.159362\" xlink:href=\"#m372e62a973\" y=\"62.188524\"/>\n     <use style=\"fill:#1f77b4;stroke:#1f77b4;\" x=\"321.283329\" xlink:href=\"#m372e62a973\" y=\"30.18827\"/>\n     <use style=\"fill:#1f77b4;stroke:#1f77b4;\" x=\"326.407296\" xlink:href=\"#m372e62a973\" y=\"19.554545\"/>\n     <use style=\"fill:#1f77b4;stroke:#1f77b4;\" x=\"331.531263\" xlink:href=\"#m372e62a973\" y=\"28.810626\"/>\n     <use style=\"fill:#1f77b4;stroke:#1f77b4;\" x=\"336.65523\" xlink:href=\"#m372e62a973\" y=\"54.051333\"/>\n     <use style=\"fill:#1f77b4;stroke:#1f77b4;\" x=\"341.779197\" xlink:href=\"#m372e62a973\" y=\"98.782132\"/>\n     <use style=\"fill:#1f77b4;stroke:#1f77b4;\" x=\"346.903164\" xlink:href=\"#m372e62a973\" y=\"144.13117\"/>\n     <use style=\"fill:#1f77b4;stroke:#1f77b4;\" x=\"352.027131\" xlink:href=\"#m372e62a973\" y=\"196.396511\"/>\n     <use style=\"fill:#1f77b4;stroke:#1f77b4;\" x=\"357.151098\" xlink:href=\"#m372e62a973\" y=\"233.527607\"/>\n     <use style=\"fill:#1f77b4;stroke:#1f77b4;\" x=\"362.275065\" xlink:href=\"#m372e62a973\" y=\"260.681089\"/>\n     <use style=\"fill:#1f77b4;stroke:#1f77b4;\" x=\"367.399032\" xlink:href=\"#m372e62a973\" y=\"265.673654\"/>\n     <use style=\"fill:#1f77b4;stroke:#1f77b4;\" x=\"372.522998\" xlink:href=\"#m372e62a973\" y=\"251.481798\"/>\n     <use style=\"fill:#1f77b4;stroke:#1f77b4;\" x=\"377.646965\" xlink:href=\"#m372e62a973\" y=\"216.134541\"/>\n     <use style=\"fill:#1f77b4;stroke:#1f77b4;\" x=\"382.770932\" xlink:href=\"#m372e62a973\" y=\"174.544773\"/>\n     <use style=\"fill:#1f77b4;stroke:#1f77b4;\" x=\"387.894899\" xlink:href=\"#m372e62a973\" y=\"120.936653\"/>\n     <use style=\"fill:#1f77b4;stroke:#1f77b4;\" x=\"393.018866\" xlink:href=\"#m372e62a973\" y=\"77.927157\"/>\n     <use style=\"fill:#1f77b4;stroke:#1f77b4;\" x=\"398.142833\" xlink:href=\"#m372e62a973\" y=\"39.543284\"/>\n     <use style=\"fill:#1f77b4;stroke:#1f77b4;\" x=\"403.2668\" xlink:href=\"#m372e62a973\" y=\"21.979052\"/>\n     <use style=\"fill:#1f77b4;stroke:#1f77b4;\" x=\"408.390767\" xlink:href=\"#m372e62a973\" y=\"22.795158\"/>\n     <use style=\"fill:#1f77b4;stroke:#1f77b4;\" x=\"413.514734\" xlink:href=\"#m372e62a973\" y=\"41.647266\"/>\n     <use style=\"fill:#1f77b4;stroke:#1f77b4;\" x=\"418.638701\" xlink:href=\"#m372e62a973\" y=\"81.153594\"/>\n     <use style=\"fill:#1f77b4;stroke:#1f77b4;\" x=\"423.762668\" xlink:href=\"#m372e62a973\" y=\"124.6465\"/>\n     <use style=\"fill:#1f77b4;stroke:#1f77b4;\" x=\"428.886635\" xlink:href=\"#m372e62a973\" y=\"178.166208\"/>\n     <use style=\"fill:#1f77b4;stroke:#1f77b4;\" x=\"434.010602\" xlink:href=\"#m372e62a973\" y=\"219.132992\"/>\n     <use style=\"fill:#1f77b4;stroke:#1f77b4;\" x=\"439.134569\" xlink:href=\"#m372e62a973\" y=\"253.236197\"/>\n     <use style=\"fill:#1f77b4;stroke:#1f77b4;\" x=\"444.258536\" xlink:href=\"#m372e62a973\" y=\"266.580884\"/>\n     <use style=\"fill:#1f77b4;stroke:#1f77b4;\" x=\"449.382503\" xlink:href=\"#m372e62a973\" y=\"259.472578\"/>\n     <use style=\"fill:#1f77b4;stroke:#1f77b4;\" x=\"454.50647\" xlink:href=\"#m372e62a973\" y=\"230.924125\"/>\n     <use style=\"fill:#1f77b4;stroke:#1f77b4;\" x=\"459.630436\" xlink:href=\"#m372e62a973\" y=\"192.979987\"/>\n     <use style=\"fill:#1f77b4;stroke:#1f77b4;\" x=\"464.754403\" xlink:href=\"#m372e62a973\" y=\"140.370603\"/>\n     <use style=\"fill:#1f77b4;stroke:#1f77b4;\" x=\"469.87837\" xlink:href=\"#m372e62a973\" y=\"95.291636\"/>\n     <use style=\"fill:#1f77b4;stroke:#1f77b4;\" x=\"475.002337\" xlink:href=\"#m372e62a973\" y=\"51.482596\"/>\n     <use style=\"fill:#1f77b4;stroke:#1f77b4;\" x=\"480.126304\" xlink:href=\"#m372e62a973\" y=\"27.426411\"/>\n     <use style=\"fill:#1f77b4;stroke:#1f77b4;\" x=\"485.250271\" xlink:href=\"#m372e62a973\" y=\"19.782178\"/>\n     <use style=\"fill:#1f77b4;stroke:#1f77b4;\" x=\"490.374238\" xlink:href=\"#m372e62a973\" y=\"31.774979\"/>\n     <use style=\"fill:#1f77b4;stroke:#1f77b4;\" x=\"495.498205\" xlink:href=\"#m372e62a973\" y=\"65.070329\"/>\n     <use style=\"fill:#1f77b4;stroke:#1f77b4;\" x=\"500.622172\" xlink:href=\"#m372e62a973\" y=\"105.621044\"/>\n     <use style=\"fill:#1f77b4;stroke:#1f77b4;\" x=\"505.746139\" xlink:href=\"#m372e62a973\" y=\"159.058735\"/>\n     <use style=\"fill:#1f77b4;stroke:#1f77b4;\" x=\"510.870106\" xlink:href=\"#m372e62a973\" y=\"202.838245\"/>\n     <use style=\"fill:#1f77b4;stroke:#1f77b4;\" x=\"515.994073\" xlink:href=\"#m372e62a973\" y=\"243.039554\"/>\n     <use style=\"fill:#1f77b4;stroke:#1f77b4;\" x=\"521.11804\" xlink:href=\"#m372e62a973\" y=\"264.403137\"/>\n     <use style=\"fill:#1f77b4;stroke:#1f77b4;\" x=\"526.242007\" xlink:href=\"#m372e62a973\" y=\"264.555943\"/>\n     <use style=\"fill:#1f77b4;stroke:#1f77b4;\" x=\"531.365974\" xlink:href=\"#m372e62a973\" y=\"243.519133\"/>\n     <use style=\"fill:#1f77b4;stroke:#1f77b4;\" x=\"536.489941\" xlink:href=\"#m372e62a973\" y=\"210.168113\"/>\n     <use style=\"fill:#1f77b4;stroke:#1f77b4;\" x=\"541.613908\" xlink:href=\"#m372e62a973\" y=\"159.871099\"/>\n     <use style=\"fill:#1f77b4;stroke:#1f77b4;\" x=\"546.737874\" xlink:href=\"#m372e62a973\" y=\"113.848328\"/>\n     <use style=\"fill:#1f77b4;stroke:#1f77b4;\" x=\"551.861841\" xlink:href=\"#m372e62a973\" y=\"65.708078\"/>\n     <use style=\"fill:#1f77b4;stroke:#1f77b4;\" x=\"556.985808\" xlink:href=\"#m372e62a973\" y=\"35.760644\"/>\n     <use style=\"fill:#1f77b4;stroke:#1f77b4;\" x=\"562.109775\" xlink:href=\"#m372e62a973\" y=\"19.846926\"/>\n     <use style=\"fill:#1f77b4;stroke:#1f77b4;\" x=\"567.233742\" xlink:href=\"#m372e62a973\" y=\"24.680908\"/>\n     <use style=\"fill:#1f77b4;stroke:#1f77b4;\" x=\"572.357709\" xlink:href=\"#m372e62a973\" y=\"50.933908\"/>\n     <use style=\"fill:#1f77b4;stroke:#1f77b4;\" x=\"577.481676\" xlink:href=\"#m372e62a973\" y=\"87.529873\"/>\n    </g>\n   </g>\n   <g id=\"patch_3\">\n    <path d=\"M 44.845313 279 \nL 44.845313 7.2 \n\" style=\"fill:none;stroke:#000000;stroke-linecap:square;stroke-linejoin:miter;stroke-width:0.8;\"/>\n   </g>\n   <g id=\"patch_4\">\n    <path d=\"M 602.845312 279 \nL 602.845312 7.2 \n\" style=\"fill:none;stroke:#000000;stroke-linecap:square;stroke-linejoin:miter;stroke-width:0.8;\"/>\n   </g>\n   <g id=\"patch_5\">\n    <path d=\"M 44.845313 279 \nL 602.845312 279 \n\" style=\"fill:none;stroke:#000000;stroke-linecap:square;stroke-linejoin:miter;stroke-width:0.8;\"/>\n   </g>\n   <g id=\"patch_6\">\n    <path d=\"M 44.845313 7.2 \nL 602.845312 7.2 \n\" style=\"fill:none;stroke:#000000;stroke-linecap:square;stroke-linejoin:miter;stroke-width:0.8;\"/>\n   </g>\n  </g>\n </g>\n <defs>\n  <clipPath id=\"p061d7ec4ba\">\n   <rect height=\"271.8\" width=\"558\" x=\"44.845313\" y=\"7.2\"/>\n  </clipPath>\n </defs>\n</svg>\n",
      "image/png": "[encoded data removed]"
     },
     "metadata": {
      "needs_background": "light"
     }
    }
   ],
   "source": [
    "plt.figure(figsize=(10,5))\n",
    "plt.plot(n_fxp, y_24_22, marker='.')\n",
    "plt.show()"
   ]
  },
  {
   "source": [
    "Result can be also stored ina predefined Fxp variable, using `out` parameter:"
   ],
   "cell_type": "markdown",
   "metadata": {}
  },
  {
   "cell_type": "code",
   "execution_count": 19,
   "metadata": {},
   "outputs": [
    {
     "output_type": "execute_result",
     "data": {
      "text/plain": [
       "fxp-s16/4([ 0.      0.3125  0.6875  0.875   0.9375  0.875   0.625   0.3125 -0.0625\n",
       "           -0.4375 -0.75   -0.9375 -0.9375 -0.8125 -0.5    -0.125   0.1875  0.5625\n",
       "            0.8125  0.9375  0.9375  0.75    0.4375  0.     -0.3125 -0.6875 -0.875\n",
       "           -0.9375 -0.875  -0.625  -0.25    0.      0.4375  0.75    0.9375  0.9375\n",
       "            0.8125  0.5625  0.1875 -0.125  -0.5625 -0.8125 -0.9375 -0.9375 -0.75\n",
       "           -0.4375 -0.0625  0.3125  0.625   0.875   0.9375  0.875   0.6875  0.3125\n",
       "            0.     -0.375  -0.6875 -0.9375 -0.9375 -0.875  -0.5625 -0.25    0.125\n",
       "            0.5     0.8125  0.9375  0.9375  0.8125  0.5     0.125  -0.25   -0.5625\n",
       "           -0.875  -0.9375 -0.9375 -0.6875 -0.375   0.      0.375   0.6875  0.875\n",
       "            0.9375  0.875   0.625   0.25   -0.125  -0.4375 -0.75   -0.9375 -0.9375\n",
       "           -0.8125 -0.5    -0.125   0.1875  0.625   0.8125  0.9375  0.9375  0.6875\n",
       "            0.4375])"
      ]
     },
     "metadata": {},
     "execution_count": 19
    }
   ],
   "source": [
    "z = Fxp(None, dtype='fxp-s16/4')\n",
    "np.sin(2*np.pi*f*n_fxp/fs, out=z)"
   ]
  },
  {
   "source": [
    "## Config (behaviors)\n",
    "\n",
    "The new parameter `config`, a class indeed, is a parameters set which determines the behavior of a Fxp object in several processes.\n",
    "\n",
    "Let's take a look over this class:"
   ],
   "cell_type": "markdown",
   "metadata": {}
  },
  {
   "cell_type": "code",
   "execution_count": 20,
   "metadata": {},
   "outputs": [
    {
     "output_type": "stream",
     "name": "stdout",
     "text": [
      "\tmax_error               :\t1.0842021724855044e-19\n\tn_word_max              :\t64\n\toverflow                :\tsaturate\n\trounding                :\ttrunc\n\tshifting                :\texpand\n\top_method               :\traw\n\top_input_size           :\tsame\n\top_out                  :\tNone\n\top_out_like             :\tNone\n\top_sizing               :\toptimal\n\tconst_op_sizing         :\tsame\n\tarray_output_type       :\tfxp\n\tarray_op_out            :\tNone\n\tarray_op_out_like       :\tNone\n\tarray_op_method         :\trepr\n\tdtype_notation          :\tfxp\n"
     ]
    }
   ],
   "source": [
    "x = Fxp(None, True, 16, 4)\n",
    "x.config.print()"
   ]
  },
  {
   "source": [
    "The first 5 parameters were present in older versions, but they were move here. Note that size parameters don't live here.\n",
    "\n",
    "Following sections will explain breafly each new parameter."
   ],
   "cell_type": "markdown",
   "metadata": {}
  },
  {
   "source": [
    "### op_method\n",
    "\n",
    "This parameter defines if a operation involving its Fxp object is going to be performed using `raw` or `repr` method.\n",
    "\n",
    "The 'raw' method use the `int` internal representation of data, whilst 'repr' use the original type of data for the operation. The `raw` method is more accurate and emulate binary level operation, but is slower most of cases. This method is needed in cases of *extended precision*."
   ],
   "cell_type": "markdown",
   "metadata": {}
  },
  {
   "cell_type": "code",
   "execution_count": 21,
   "metadata": {},
   "outputs": [
    {
     "output_type": "stream",
     "name": "stdout",
     "text": [
      "[-1.0 -2147483648.0 2147483649.0]\n[5.421010862427522e-20 -2147483648.0 2147483648.0]\n"
     ]
    }
   ],
   "source": [
    "a = Fxp([-1.0, 0.0, 1.0], True, 128, 96)\n",
    "b = Fxp([2**-64, -2**48, 2**32], True, 128, 96)\n",
    "\n",
    "c = a + b\n",
    "print(c)\n",
    "print(c-a) # equal to b"
   ]
  },
  {
   "cell_type": "code",
   "execution_count": 22,
   "metadata": {},
   "outputs": [
    {
     "output_type": "stream",
     "name": "stdout",
     "text": [
      "[-1.0 -2147483648.0 2147483649.0]\n[0.0 -2147483648.0 2147483648.0]\n"
     ]
    }
   ],
   "source": [
    "a.config.op_method = 'repr'\n",
    "b.config.op_method = 'repr'\n",
    "\n",
    "c = a + b\n",
    "print(c)\n",
    "print(c-a) # should be equal to b, but it doesn't"
   ]
  },
  {
   "source": [
    "Using `repr`, addition is equivalent to c = Fxp(a() + b()). The fist value ef $c - a$ is not equal to first value of $b$ because $2^{-64}$ has been lost when it was added to $1.0$ becuase *float precision* limit."
   ],
   "cell_type": "markdown",
   "metadata": {}
  },
  {
   "source": [
    "### op_input_size\n",
    "\n",
    "When an arithmetic operator is used between an Fxp and a non-Fxp object, last is going to be converted to Fxp before operation is performed. Sizing process of this non-Fxp object is specified by `op_input_size`. The values could be 'same' (default, same size than Fxp) or 'best' (best size according value(s) of non-Fxp).\n"
   ],
   "cell_type": "markdown",
   "metadata": {}
  },
  {
   "cell_type": "code",
   "execution_count": 23,
   "metadata": {},
   "outputs": [
    {
     "output_type": "stream",
     "name": "stdout",
     "text": [
      "\tdtype\t\t=\tfxp-s16/2\n\tValue\t\t=\t4.0\n\n"
     ]
    }
   ],
   "source": [
    "x = Fxp(2.0, True, 16, 2)\n",
    "x.config.op_input_size = 'same'\n",
    "\n",
    "z = x * 2.125\n",
    "\n",
    "z.info()"
   ]
  },
  {
   "source": [
    "Note that 2.125 is converted to Fxp(2.125, True, 16, 2), losing precision."
   ],
   "cell_type": "markdown",
   "metadata": {}
  },
  {
   "cell_type": "code",
   "execution_count": 24,
   "metadata": {},
   "outputs": [
    {
     "output_type": "stream",
     "name": "stdout",
     "text": [
      "\tdtype\t\t=\tfxp-s16/2\n\tValue\t\t=\t4.25\n\n"
     ]
    }
   ],
   "source": [
    "x = Fxp(2.0, True, 16, 2)\n",
    "x.config.op_input_size = 'best'\n",
    "\n",
    "z = x * 2.125\n",
    "\n",
    "z.info()"
   ]
  },
  {
   "source": [
    "### op_out\n",
    "\n",
    "This can point to a specific Fxp object to store a result. By default this is `None`.\n",
    "\n",
    "If two Fxp objects are used the first will be the reference."
   ],
   "cell_type": "markdown",
   "metadata": {}
  },
  {
   "cell_type": "code",
   "execution_count": 25,
   "metadata": {},
   "outputs": [
    {
     "output_type": "stream",
     "name": "stdout",
     "text": [
      "\tdtype\t\t=\tfxp-s16/4\n\tValue\t\t=\t3.0\n\n\tdtype\t\t=\tfxp-s16/4\n\tValue\t\t=\t3.0\n\n"
     ]
    }
   ],
   "source": [
    "x = Fxp(2.0, True, 16, 2)\n",
    "z = Fxp(0.0, True, 16, 4)\n",
    "\n",
    "x.config.op_out = z\n",
    "\n",
    "(x + 1).info()\n",
    "z.info()"
   ]
  },
  {
   "source": [
    "### op_out_like\n",
    "\n",
    "This defines the Fxp type for result. By default this is `None`.\n",
    "\n",
    "If two Fxp objects are used the first will be the reference."
   ],
   "cell_type": "markdown",
   "metadata": {}
  },
  {
   "cell_type": "code",
   "execution_count": 26,
   "metadata": {},
   "outputs": [
    {
     "output_type": "stream",
     "name": "stdout",
     "text": [
      "\tdtype\t\t=\tfxp-s24/4\n\tValue\t\t=\t7.0\n\n"
     ]
    }
   ],
   "source": [
    "x = Fxp(2.0, True, 16, 2)\n",
    "x.config.op_out = Fxp(None, True, 24, 4)\n",
    "\n",
    "z = x * 3.5 \n",
    "\n",
    "z.info()"
   ]
  },
  {
   "source": [
    "### op_sizing\n",
    "\n",
    "This defines size of Fxp returned by an operation, applied to one or two Fxp objects. The option for config this parameters are: 'optimal', 'same', 'fit', 'largest', 'smallest'. Where:\n",
    "- 'optimal': size is theorical optimal according operation and sizes of operands.\n",
    "- 'same': same size that firs operand.\n",
    "- 'fit': best size is calculated according result value(s).\n",
    "- 'largest': same size that largest (size) Fxp operand.\n",
    "- 'smallest': same size that smallest (size) Fxp operand.\n"
   ],
   "cell_type": "markdown",
   "metadata": {}
  },
  {
   "cell_type": "code",
   "execution_count": 27,
   "metadata": {},
   "outputs": [
    {
     "output_type": "stream",
     "name": "stdout",
     "text": [
      "optimal:\n\tdtype\t\t=\tfxp-s25/8\n\tValue\t\t=\t2.25\n\nsame:\n\tdtype\t\t=\tfxp-s16/4\n\tValue\t\t=\t2.25\n\nfit:\n\tdtype\t\t=\tfxp-s11/8\n\tValue\t\t=\t2.25\n\nlargest:\n\tdtype\t\t=\tfxp-s24/8\n\tValue\t\t=\t2.25\n\nsmallest:\n\tdtype\t\t=\tfxp-s16/4\n\tValue\t\t=\t2.25\n\n"
     ]
    }
   ],
   "source": [
    "x = Fxp(3.5, True, 16, 4)\n",
    "y = Fxp(-1.25, True, 24, 8)\n",
    "\n",
    "for s in x.config._op_sizing_list:\n",
    "    x.config.op_sizing = s\n",
    "    print('{}:'.format(x.config.op_sizing))\n",
    "    (x + y).info()\n"
   ]
  },
  {
   "source": [
    "### const_op_sizing\n",
    "\n",
    "This defines the same behavior that `op_sizing` parameter, but when a constant is used as operand instead other Fxp object. First, constat is converted to Fxp according to `op_input_size` and then output Fxp (result) size is choosen by `const_op_sizing`."
   ],
   "cell_type": "markdown",
   "metadata": {}
  },
  {
   "cell_type": "code",
   "execution_count": 28,
   "metadata": {},
   "outputs": [
    {
     "output_type": "stream",
     "name": "stdout",
     "text": [
      "optimal:\n\tdtype\t\t=\tfxp-s17/4\n\tValue\t\t=\t5.5\n\nsame:\n\tdtype\t\t=\tfxp-s16/4\n\tValue\t\t=\t5.5\n\nfit:\n\tdtype\t\t=\tfxp-s8/4\n\tValue\t\t=\t5.5\n\nlargest:\n\tdtype\t\t=\tfxp-s16/4\n\tValue\t\t=\t5.5\n\nsmallest:\n\tdtype\t\t=\tfxp-s16/4\n\tValue\t\t=\t5.5\n\n"
     ]
    }
   ],
   "source": [
    "x = Fxp(3.5, True, 16, 4)\n",
    "\n",
    "for s in x.config._const_op_sizing_list:\n",
    "    x.config.const_op_sizing = s\n",
    "    print('{}:'.format(x.config.const_op_sizing))\n",
    "    (x + 2).info()"
   ]
  },
  {
   "source": [
    "\n",
    "\tarray_op_method         :\trepr"
   ],
   "cell_type": "markdown",
   "metadata": {}
  },
  {
   "source": [
    "### array_output_type\n",
    "\n",
    "This defines the type of the object get as result when use array (numpy) functions. The options are: 'fxp' (defautl, return an Fxp) or 'array' (return an numpy n-dimensional array)."
   ],
   "cell_type": "markdown",
   "metadata": {}
  },
  {
   "cell_type": "code",
   "execution_count": 29,
   "metadata": {},
   "outputs": [
    {
     "output_type": "stream",
     "name": "stdout",
     "text": [
      "\tdtype\t\t=\tfxp-s18/4\n\tValue\t\t=\t11.0\n\n11.0 <class 'numpy.ndarray'>\n"
     ]
    }
   ],
   "source": [
    "x = Fxp([1.0, 2.5, 3.0, 4.5], dtype='fxp-s16/4')\n",
    "x.config.array_output_type = 'fxp'\n",
    "\n",
    "z = np.sum(x)\n",
    "z.info()\n",
    "\n",
    "x.config.array_output_type = 'array'\n",
    "z = np.sum(x)\n",
    "print(z, type(z))"
   ]
  },
  {
   "source": [
    "### array_op_out\n",
    "\n",
    "Same as `op_output` but used with numpy functions:"
   ],
   "cell_type": "markdown",
   "metadata": {}
  },
  {
   "cell_type": "code",
   "execution_count": 30,
   "metadata": {},
   "outputs": [
    {
     "output_type": "stream",
     "name": "stdout",
     "text": [
      "\tdtype\t\t=\tfxp-s16/4\n\tValue\t\t=\t-3.0\n\n\tdtype\t\t=\tfxp-s16/4\n\tValue\t\t=\t-3.0\n\nTrue\n"
     ]
    }
   ],
   "source": [
    "w = Fxp([1.0, -2.5, 3.0, -4.5], dtype='fxp-s16/4')\n",
    "z = Fxp(0.0, True, 16, 4)\n",
    "w.config.array_op_out = z\n",
    "\n",
    "y = np.sum(w)\n",
    "y.info()\n",
    "z.info()\n",
    "print(y is z)"
   ]
  },
  {
   "source": [
    "#### array_op_out_like\n",
    "\n",
    "Same as `op_out_like` but used with numpy functions:"
   ],
   "cell_type": "markdown",
   "metadata": {}
  },
  {
   "cell_type": "code",
   "execution_count": 31,
   "metadata": {},
   "outputs": [
    {
     "output_type": "stream",
     "name": "stdout",
     "text": [
      "\tdtype\t\t=\tfxp-s32/8\n\tValue\t\t=\t-3.0\n\n\tdtype\t\t=\tfxp-s32/8\n\tValue\t\t=\t[ 1.  -1.5  1.5 -3. ]\n\n"
     ]
    }
   ],
   "source": [
    "w = Fxp([1.0, -2.5, 3.0, -4.5], dtype='fxp-s16/4')\n",
    "w.config.array_op_out_like = Fxp(0.0, True, 32, 8)\n",
    "\n",
    "y = np.sum(w)\n",
    "y.info()\n",
    "\n",
    "y = np.cumsum(w)\n",
    "y.info()"
   ]
  },
  {
   "source": [
    "### array_op_method\n",
    "\n",
    "This property defines what values are used for (numpy) arrays created from Fxp objects. If 'raw', arrays have *raw values* of Fxp object, whilst 'repr', arrays have values in original (representation) type.\n",
    "\n",
    "This parameter is used also to defined kernel op_method when array conversion is involved."
   ],
   "cell_type": "markdown",
   "metadata": {}
  },
  {
   "cell_type": "code",
   "execution_count": 32,
   "metadata": {},
   "outputs": [
    {
     "output_type": "stream",
     "name": "stdout",
     "text": [
      "[ 1.  -2.5  3.  -4.5] <class 'numpy.ndarray'>\n[  4 -10  12 -18] <class 'numpy.ndarray'>\n"
     ]
    }
   ],
   "source": [
    "w = Fxp([1.0, -2.5, 3.0, -4.5], dtype='fxp-s8/2')\n",
    "w.config.array_op_method = 'repr'\n",
    "\n",
    "w_array = np.asarray(w)\n",
    "print(w_array, type(w_array))\n",
    "\n",
    "w.config.array_op_method = 'raw'\n",
    "w_array = np.asarray(w)\n",
    "print(w_array, type(w_array))\n"
   ]
  },
  {
   "source": [
    "## Callbacks\n",
    "\n",
    "A callback is a function that is called by a Fxp object when a specific event occurs. By now, the callbacks implemented are for following events: `on_value_change`, `on_status_overflow`, `on_status_underflow`, `on_status_inaccuracy`.\n",
    "\n",
    "Let's see an example where a message is going to be printed when a Fxp variable raise its flag of *overflow* or *underflow*:"
   ],
   "cell_type": "markdown",
   "metadata": {}
  },
  {
   "cell_type": "code",
   "execution_count": 33,
   "metadata": {},
   "outputs": [
    {
     "output_type": "stream",
     "name": "stdout",
     "text": [
      "\tdtype\t\t=\tfxp-s16/4\n\tValue\t\t=\t0.0\n\n\tSigned\t\t=\tTrue\n\tWord bits\t=\t16\n\tFract bits\t=\t4\n\tInt bits\t=\t11\n\tVal data type\t=\t<class 'float'>\n\n\tUpper\t\t=\t2047.9375\n\tLower\t\t=\t-2048.0\n\tPrecision\t=\t0.0625\n\tOverflow\t=\tsaturate\n\tRounding\t=\ttrunc\n\tShifting\t=\texpand\n\n"
     ]
    }
   ],
   "source": [
    "from fxpmath.callbacks import Callback\n",
    "\n",
    "\n",
    "def print_over_underflow_msg(self):\n",
    "    print('Something is going wrong, some value is outside limits for this Fxp!')\n",
    "\n",
    "my_callback = Callback()\n",
    "my_callback.on_status_overflow = print_over_underflow_msg\n",
    "my_callback.on_status_underflow = print_over_underflow_msg\n",
    "\n",
    "x = Fxp(dtype='fxp-s16/4', callbacks=[my_callback])\n",
    "\n",
    "x.info(3)"
   ]
  },
  {
   "cell_type": "code",
   "execution_count": 34,
   "metadata": {},
   "outputs": [
    {
     "output_type": "stream",
     "name": "stdout",
     "text": [
      "\tdtype\t\t=\tfxp-s16/4\n\tValue\t\t=\t899.625\n\n"
     ]
    }
   ],
   "source": [
    "# set a rigth value\n",
    "x(899.625)\n",
    "x.info()"
   ]
  },
  {
   "cell_type": "code",
   "execution_count": 35,
   "metadata": {},
   "outputs": [
    {
     "output_type": "stream",
     "name": "stdout",
     "text": [
      "Something is going wrong, some value is outside limits for this Fxp!\n"
     ]
    },
    {
     "output_type": "execute_result",
     "data": {
      "text/plain": [
       "fxp-s16/4(2047.9375)"
      ]
     },
     "metadata": {},
     "execution_count": 35
    }
   ],
   "source": [
    "# set a wtong value (overflow)\n",
    "x(2051.5)"
   ]
  }
 ]
}